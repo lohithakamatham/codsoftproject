{
 "cells": [
  {
   "cell_type": "markdown",
   "id": "075d5df2",
   "metadata": {
    "papermill": {
     "duration": 0.012606,
     "end_time": "2023-08-28T16:44:47.155432",
     "exception": false,
     "start_time": "2023-08-28T16:44:47.142826",
     "status": "completed"
    },
    "tags": []
   },
   "source": [
    "<center>**<b><h1 style=\"border:5px solid black\">MOVIE RATING PREDICTION</h1></b>**</center>"
   ]
  },
  {
   "cell_type": "markdown",
   "id": "84d141ab",
   "metadata": {
    "papermill": {
     "duration": 0.01108,
     "end_time": "2023-08-28T16:44:47.178351",
     "exception": false,
     "start_time": "2023-08-28T16:44:47.167271",
     "status": "completed"
    },
    "tags": []
   },
   "source": [
    "<center><img src = \"http://66.media.tumblr.com/df4e6804d4bea846f229671be3e46984/tumblr_no0kljwaMJ1txcn09o1_1280.jpg\" style= \"width:1000px;\"></center>"
   ]
  },
  {
   "cell_type": "markdown",
   "id": "ce131e0b",
   "metadata": {
    "papermill": {
     "duration": 0.011365,
     "end_time": "2023-08-28T16:44:47.203351",
     "exception": false,
     "start_time": "2023-08-28T16:44:47.191986",
     "status": "completed"
    },
    "tags": []
   },
   "source": [
    "# Import Library"
   ]
  },
  {
   "cell_type": "code",
   "execution_count": 54,
   "id": "6c82a1f5",
   "metadata": {
    "execution": {
     "iopub.execute_input": "2023-08-28T16:44:47.228688Z",
     "iopub.status.busy": "2023-08-28T16:44:47.227469Z",
     "iopub.status.idle": "2023-08-28T16:44:47.237493Z",
     "shell.execute_reply": "2023-08-28T16:44:47.236372Z"
    },
    "papermill": {
     "duration": 0.024839,
     "end_time": "2023-08-28T16:44:47.239599",
     "exception": false,
     "start_time": "2023-08-28T16:44:47.214760",
     "status": "completed"
    },
    "tags": []
   },
   "outputs": [],
   "source": [
    "import numpy as np\n",
    "import pandas as pd"
   ]
  },
  {
   "cell_type": "code",
   "execution_count": 2,
   "id": "2da7d1b6",
   "metadata": {
    "execution": {
     "iopub.execute_input": "2023-08-28T16:44:47.265034Z",
     "iopub.status.busy": "2023-08-28T16:44:47.264670Z",
     "iopub.status.idle": "2023-08-28T16:44:47.388814Z",
     "shell.execute_reply": "2023-08-28T16:44:47.387524Z"
    },
    "papermill": {
     "duration": 0.139655,
     "end_time": "2023-08-28T16:44:47.391407",
     "exception": false,
     "start_time": "2023-08-28T16:44:47.251752",
     "status": "completed"
    },
    "tags": []
   },
   "outputs": [],
   "source": [
    "df = pd.read_csv('/Users/lohit/OneDrive/Documents/imdb movies.csv', encoding='latin-1')\n"
   ]
  },
  {
   "cell_type": "code",
   "execution_count": 3,
   "id": "f5b8a9d3",
   "metadata": {
    "execution": {
     "iopub.execute_input": "2023-08-28T16:44:47.416367Z",
     "iopub.status.busy": "2023-08-28T16:44:47.415991Z",
     "iopub.status.idle": "2023-08-28T16:44:47.445985Z",
     "shell.execute_reply": "2023-08-28T16:44:47.444713Z"
    },
    "papermill": {
     "duration": 0.045526,
     "end_time": "2023-08-28T16:44:47.448537",
     "exception": false,
     "start_time": "2023-08-28T16:44:47.403011",
     "status": "completed"
    },
    "tags": []
   },
   "outputs": [
    {
     "data": {
      "text/html": [
       "<div>\n",
       "<style scoped>\n",
       "    .dataframe tbody tr th:only-of-type {\n",
       "        vertical-align: middle;\n",
       "    }\n",
       "\n",
       "    .dataframe tbody tr th {\n",
       "        vertical-align: top;\n",
       "    }\n",
       "\n",
       "    .dataframe thead th {\n",
       "        text-align: right;\n",
       "    }\n",
       "</style>\n",
       "<table border=\"1\" class=\"dataframe\">\n",
       "  <thead>\n",
       "    <tr style=\"text-align: right;\">\n",
       "      <th></th>\n",
       "      <th>Name</th>\n",
       "      <th>Year</th>\n",
       "      <th>Duration</th>\n",
       "      <th>Genre</th>\n",
       "      <th>Rating</th>\n",
       "      <th>Votes</th>\n",
       "      <th>Director</th>\n",
       "      <th>Actor 1</th>\n",
       "      <th>Actor 2</th>\n",
       "      <th>Actor 3</th>\n",
       "    </tr>\n",
       "  </thead>\n",
       "  <tbody>\n",
       "    <tr>\n",
       "      <th>0</th>\n",
       "      <td></td>\n",
       "      <td>NaN</td>\n",
       "      <td>NaN</td>\n",
       "      <td>Drama</td>\n",
       "      <td>NaN</td>\n",
       "      <td>NaN</td>\n",
       "      <td>J.S. Randhawa</td>\n",
       "      <td>Manmauji</td>\n",
       "      <td>Birbal</td>\n",
       "      <td>Rajendra Bhatia</td>\n",
       "    </tr>\n",
       "    <tr>\n",
       "      <th>1</th>\n",
       "      <td>#Gadhvi (He thought he was Gandhi)</td>\n",
       "      <td>-2019.0</td>\n",
       "      <td>109 min</td>\n",
       "      <td>Drama</td>\n",
       "      <td>7.0</td>\n",
       "      <td>8</td>\n",
       "      <td>Gaurav Bakshi</td>\n",
       "      <td>Rasika Dugal</td>\n",
       "      <td>Vivek Ghamande</td>\n",
       "      <td>Arvind Jangid</td>\n",
       "    </tr>\n",
       "    <tr>\n",
       "      <th>2</th>\n",
       "      <td>#Homecoming</td>\n",
       "      <td>-2021.0</td>\n",
       "      <td>90 min</td>\n",
       "      <td>Drama, Musical</td>\n",
       "      <td>NaN</td>\n",
       "      <td>NaN</td>\n",
       "      <td>Soumyajit Majumdar</td>\n",
       "      <td>Sayani Gupta</td>\n",
       "      <td>Plabita Borthakur</td>\n",
       "      <td>Roy Angana</td>\n",
       "    </tr>\n",
       "    <tr>\n",
       "      <th>3</th>\n",
       "      <td>#Yaaram</td>\n",
       "      <td>-2019.0</td>\n",
       "      <td>110 min</td>\n",
       "      <td>Comedy, Romance</td>\n",
       "      <td>4.4</td>\n",
       "      <td>35</td>\n",
       "      <td>Ovais Khan</td>\n",
       "      <td>Prateik</td>\n",
       "      <td>Ishita Raj</td>\n",
       "      <td>Siddhant Kapoor</td>\n",
       "    </tr>\n",
       "    <tr>\n",
       "      <th>4</th>\n",
       "      <td>...And Once Again</td>\n",
       "      <td>-2010.0</td>\n",
       "      <td>105 min</td>\n",
       "      <td>Drama</td>\n",
       "      <td>NaN</td>\n",
       "      <td>NaN</td>\n",
       "      <td>Amol Palekar</td>\n",
       "      <td>Rajat Kapoor</td>\n",
       "      <td>Rituparna Sengupta</td>\n",
       "      <td>Antara Mali</td>\n",
       "    </tr>\n",
       "    <tr>\n",
       "      <th>...</th>\n",
       "      <td>...</td>\n",
       "      <td>...</td>\n",
       "      <td>...</td>\n",
       "      <td>...</td>\n",
       "      <td>...</td>\n",
       "      <td>...</td>\n",
       "      <td>...</td>\n",
       "      <td>...</td>\n",
       "      <td>...</td>\n",
       "      <td>...</td>\n",
       "    </tr>\n",
       "    <tr>\n",
       "      <th>15504</th>\n",
       "      <td>Zulm Ko Jala Doonga</td>\n",
       "      <td>-1988.0</td>\n",
       "      <td>NaN</td>\n",
       "      <td>Action</td>\n",
       "      <td>4.6</td>\n",
       "      <td>11</td>\n",
       "      <td>Mahendra Shah</td>\n",
       "      <td>Naseeruddin Shah</td>\n",
       "      <td>Sumeet Saigal</td>\n",
       "      <td>Suparna Anand</td>\n",
       "    </tr>\n",
       "    <tr>\n",
       "      <th>15505</th>\n",
       "      <td>Zulmi</td>\n",
       "      <td>-1999.0</td>\n",
       "      <td>129 min</td>\n",
       "      <td>Action, Drama</td>\n",
       "      <td>4.5</td>\n",
       "      <td>655</td>\n",
       "      <td>Kuku Kohli</td>\n",
       "      <td>Akshay Kumar</td>\n",
       "      <td>Twinkle Khanna</td>\n",
       "      <td>Aruna Irani</td>\n",
       "    </tr>\n",
       "    <tr>\n",
       "      <th>15506</th>\n",
       "      <td>Zulmi Raj</td>\n",
       "      <td>-2005.0</td>\n",
       "      <td>NaN</td>\n",
       "      <td>Action</td>\n",
       "      <td>NaN</td>\n",
       "      <td>NaN</td>\n",
       "      <td>Kiran Thej</td>\n",
       "      <td>Sangeeta Tiwari</td>\n",
       "      <td>NaN</td>\n",
       "      <td>NaN</td>\n",
       "    </tr>\n",
       "    <tr>\n",
       "      <th>15507</th>\n",
       "      <td>Zulmi Shikari</td>\n",
       "      <td>-1988.0</td>\n",
       "      <td>NaN</td>\n",
       "      <td>Action</td>\n",
       "      <td>NaN</td>\n",
       "      <td>NaN</td>\n",
       "      <td>NaN</td>\n",
       "      <td>NaN</td>\n",
       "      <td>NaN</td>\n",
       "      <td>NaN</td>\n",
       "    </tr>\n",
       "    <tr>\n",
       "      <th>15508</th>\n",
       "      <td>Zulm-O-Sitam</td>\n",
       "      <td>-1998.0</td>\n",
       "      <td>130 min</td>\n",
       "      <td>Action, Drama</td>\n",
       "      <td>6.2</td>\n",
       "      <td>20</td>\n",
       "      <td>K.C. Bokadia</td>\n",
       "      <td>Dharmendra</td>\n",
       "      <td>Jaya Prada</td>\n",
       "      <td>Arjun Sarja</td>\n",
       "    </tr>\n",
       "  </tbody>\n",
       "</table>\n",
       "<p>15509 rows × 10 columns</p>\n",
       "</div>"
      ],
      "text/plain": [
       "                                     Name    Year Duration            Genre  \\\n",
       "0                                             NaN      NaN            Drama   \n",
       "1      #Gadhvi (He thought he was Gandhi) -2019.0  109 min            Drama   \n",
       "2                             #Homecoming -2021.0   90 min   Drama, Musical   \n",
       "3                                 #Yaaram -2019.0  110 min  Comedy, Romance   \n",
       "4                       ...And Once Again -2010.0  105 min            Drama   \n",
       "...                                   ...     ...      ...              ...   \n",
       "15504                 Zulm Ko Jala Doonga -1988.0      NaN           Action   \n",
       "15505                               Zulmi -1999.0  129 min    Action, Drama   \n",
       "15506                           Zulmi Raj -2005.0      NaN           Action   \n",
       "15507                       Zulmi Shikari -1988.0      NaN           Action   \n",
       "15508                        Zulm-O-Sitam -1998.0  130 min    Action, Drama   \n",
       "\n",
       "       Rating Votes            Director           Actor 1             Actor 2  \\\n",
       "0         NaN   NaN       J.S. Randhawa          Manmauji              Birbal   \n",
       "1         7.0     8       Gaurav Bakshi      Rasika Dugal      Vivek Ghamande   \n",
       "2         NaN   NaN  Soumyajit Majumdar      Sayani Gupta   Plabita Borthakur   \n",
       "3         4.4    35          Ovais Khan           Prateik          Ishita Raj   \n",
       "4         NaN   NaN        Amol Palekar      Rajat Kapoor  Rituparna Sengupta   \n",
       "...       ...   ...                 ...               ...                 ...   \n",
       "15504     4.6    11       Mahendra Shah  Naseeruddin Shah       Sumeet Saigal   \n",
       "15505     4.5   655          Kuku Kohli      Akshay Kumar      Twinkle Khanna   \n",
       "15506     NaN   NaN          Kiran Thej   Sangeeta Tiwari                 NaN   \n",
       "15507     NaN   NaN                 NaN               NaN                 NaN   \n",
       "15508     6.2    20        K.C. Bokadia        Dharmendra          Jaya Prada   \n",
       "\n",
       "               Actor 3  \n",
       "0      Rajendra Bhatia  \n",
       "1        Arvind Jangid  \n",
       "2           Roy Angana  \n",
       "3      Siddhant Kapoor  \n",
       "4          Antara Mali  \n",
       "...                ...  \n",
       "15504    Suparna Anand  \n",
       "15505      Aruna Irani  \n",
       "15506              NaN  \n",
       "15507              NaN  \n",
       "15508      Arjun Sarja  \n",
       "\n",
       "[15509 rows x 10 columns]"
      ]
     },
     "execution_count": 3,
     "metadata": {},
     "output_type": "execute_result"
    }
   ],
   "source": [
    "df"
   ]
  },
  {
   "cell_type": "code",
   "execution_count": 4,
   "id": "441ee433",
   "metadata": {
    "execution": {
     "iopub.execute_input": "2023-08-28T16:44:47.475135Z",
     "iopub.status.busy": "2023-08-28T16:44:47.474787Z",
     "iopub.status.idle": "2023-08-28T16:44:47.492099Z",
     "shell.execute_reply": "2023-08-28T16:44:47.490912Z"
    },
    "papermill": {
     "duration": 0.034062,
     "end_time": "2023-08-28T16:44:47.494740",
     "exception": false,
     "start_time": "2023-08-28T16:44:47.460678",
     "status": "completed"
    },
    "tags": []
   },
   "outputs": [
    {
     "data": {
      "text/html": [
       "<div>\n",
       "<style scoped>\n",
       "    .dataframe tbody tr th:only-of-type {\n",
       "        vertical-align: middle;\n",
       "    }\n",
       "\n",
       "    .dataframe tbody tr th {\n",
       "        vertical-align: top;\n",
       "    }\n",
       "\n",
       "    .dataframe thead th {\n",
       "        text-align: right;\n",
       "    }\n",
       "</style>\n",
       "<table border=\"1\" class=\"dataframe\">\n",
       "  <thead>\n",
       "    <tr style=\"text-align: right;\">\n",
       "      <th></th>\n",
       "      <th>Year</th>\n",
       "      <th>Rating</th>\n",
       "    </tr>\n",
       "  </thead>\n",
       "  <tbody>\n",
       "    <tr>\n",
       "      <th>count</th>\n",
       "      <td>14981.000000</td>\n",
       "      <td>7919.000000</td>\n",
       "    </tr>\n",
       "    <tr>\n",
       "      <th>mean</th>\n",
       "      <td>-1987.012215</td>\n",
       "      <td>5.841621</td>\n",
       "    </tr>\n",
       "    <tr>\n",
       "      <th>std</th>\n",
       "      <td>25.416689</td>\n",
       "      <td>1.381777</td>\n",
       "    </tr>\n",
       "    <tr>\n",
       "      <th>min</th>\n",
       "      <td>-2022.000000</td>\n",
       "      <td>1.100000</td>\n",
       "    </tr>\n",
       "    <tr>\n",
       "      <th>25%</th>\n",
       "      <td>-2009.000000</td>\n",
       "      <td>4.900000</td>\n",
       "    </tr>\n",
       "    <tr>\n",
       "      <th>50%</th>\n",
       "      <td>-1991.000000</td>\n",
       "      <td>6.000000</td>\n",
       "    </tr>\n",
       "    <tr>\n",
       "      <th>75%</th>\n",
       "      <td>-1968.000000</td>\n",
       "      <td>6.800000</td>\n",
       "    </tr>\n",
       "    <tr>\n",
       "      <th>max</th>\n",
       "      <td>-1913.000000</td>\n",
       "      <td>10.000000</td>\n",
       "    </tr>\n",
       "  </tbody>\n",
       "</table>\n",
       "</div>"
      ],
      "text/plain": [
       "               Year       Rating\n",
       "count  14981.000000  7919.000000\n",
       "mean   -1987.012215     5.841621\n",
       "std       25.416689     1.381777\n",
       "min    -2022.000000     1.100000\n",
       "25%    -2009.000000     4.900000\n",
       "50%    -1991.000000     6.000000\n",
       "75%    -1968.000000     6.800000\n",
       "max    -1913.000000    10.000000"
      ]
     },
     "execution_count": 4,
     "metadata": {},
     "output_type": "execute_result"
    }
   ],
   "source": [
    "df.describe()"
   ]
  },
  {
   "cell_type": "code",
   "execution_count": 5,
   "id": "604fa21f",
   "metadata": {
    "execution": {
     "iopub.execute_input": "2023-08-28T16:44:47.520576Z",
     "iopub.status.busy": "2023-08-28T16:44:47.520193Z",
     "iopub.status.idle": "2023-08-28T16:44:47.563145Z",
     "shell.execute_reply": "2023-08-28T16:44:47.561810Z"
    },
    "papermill": {
     "duration": 0.058792,
     "end_time": "2023-08-28T16:44:47.565656",
     "exception": false,
     "start_time": "2023-08-28T16:44:47.506864",
     "status": "completed"
    },
    "tags": []
   },
   "outputs": [
    {
     "name": "stdout",
     "output_type": "stream",
     "text": [
      "<class 'pandas.core.frame.DataFrame'>\n",
      "RangeIndex: 15509 entries, 0 to 15508\n",
      "Data columns (total 10 columns):\n",
      " #   Column    Non-Null Count  Dtype  \n",
      "---  ------    --------------  -----  \n",
      " 0   Name      15509 non-null  object \n",
      " 1   Year      14981 non-null  float64\n",
      " 2   Duration  7240 non-null   object \n",
      " 3   Genre     13632 non-null  object \n",
      " 4   Rating    7919 non-null   float64\n",
      " 5   Votes     7920 non-null   object \n",
      " 6   Director  14984 non-null  object \n",
      " 7   Actor 1   13892 non-null  object \n",
      " 8   Actor 2   13125 non-null  object \n",
      " 9   Actor 3   12365 non-null  object \n",
      "dtypes: float64(2), object(8)\n",
      "memory usage: 1.2+ MB\n"
     ]
    }
   ],
   "source": [
    "df.info()"
   ]
  },
  {
   "cell_type": "code",
   "execution_count": 6,
   "id": "c1cf7d10",
   "metadata": {
    "execution": {
     "iopub.execute_input": "2023-08-28T16:44:47.592901Z",
     "iopub.status.busy": "2023-08-28T16:44:47.592559Z",
     "iopub.status.idle": "2023-08-28T16:44:47.599730Z",
     "shell.execute_reply": "2023-08-28T16:44:47.598633Z"
    },
    "papermill": {
     "duration": 0.0229,
     "end_time": "2023-08-28T16:44:47.601530",
     "exception": false,
     "start_time": "2023-08-28T16:44:47.578630",
     "status": "completed"
    },
    "tags": []
   },
   "outputs": [
    {
     "data": {
      "text/plain": [
       "Name         object\n",
       "Year        float64\n",
       "Duration     object\n",
       "Genre        object\n",
       "Rating      float64\n",
       "Votes        object\n",
       "Director     object\n",
       "Actor 1      object\n",
       "Actor 2      object\n",
       "Actor 3      object\n",
       "dtype: object"
      ]
     },
     "execution_count": 6,
     "metadata": {},
     "output_type": "execute_result"
    }
   ],
   "source": [
    "df.dtypes"
   ]
  },
  {
   "cell_type": "code",
   "execution_count": 7,
   "id": "d57a266a",
   "metadata": {
    "execution": {
     "iopub.execute_input": "2023-08-28T16:44:47.628016Z",
     "iopub.status.busy": "2023-08-28T16:44:47.627595Z",
     "iopub.status.idle": "2023-08-28T16:44:47.655772Z",
     "shell.execute_reply": "2023-08-28T16:44:47.655013Z"
    },
    "papermill": {
     "duration": 0.044397,
     "end_time": "2023-08-28T16:44:47.658186",
     "exception": false,
     "start_time": "2023-08-28T16:44:47.613789",
     "status": "completed"
    },
    "tags": []
   },
   "outputs": [
    {
     "data": {
      "text/plain": [
       "Name           0\n",
       "Year         528\n",
       "Duration    8269\n",
       "Genre       1877\n",
       "Rating      7590\n",
       "Votes       7589\n",
       "Director     525\n",
       "Actor 1     1617\n",
       "Actor 2     2384\n",
       "Actor 3     3144\n",
       "dtype: int64"
      ]
     },
     "execution_count": 7,
     "metadata": {},
     "output_type": "execute_result"
    }
   ],
   "source": [
    "df.isnull().sum()"
   ]
  },
  {
   "cell_type": "code",
   "execution_count": 8,
   "id": "810d2405",
   "metadata": {
    "execution": {
     "iopub.execute_input": "2023-08-28T16:44:47.691740Z",
     "iopub.status.busy": "2023-08-28T16:44:47.691137Z",
     "iopub.status.idle": "2023-08-28T16:44:47.696516Z",
     "shell.execute_reply": "2023-08-28T16:44:47.695552Z"
    },
    "papermill": {
     "duration": 0.025536,
     "end_time": "2023-08-28T16:44:47.698384",
     "exception": false,
     "start_time": "2023-08-28T16:44:47.672848",
     "status": "completed"
    },
    "tags": []
   },
   "outputs": [
    {
     "data": {
      "text/plain": [
       "(15509, 10)"
      ]
     },
     "execution_count": 8,
     "metadata": {},
     "output_type": "execute_result"
    }
   ],
   "source": [
    "df.shape"
   ]
  },
  {
   "cell_type": "code",
   "execution_count": 9,
   "id": "af76721d",
   "metadata": {
    "execution": {
     "iopub.execute_input": "2023-08-28T16:44:47.731117Z",
     "iopub.status.busy": "2023-08-28T16:44:47.730120Z",
     "iopub.status.idle": "2023-08-28T16:44:47.765859Z",
     "shell.execute_reply": "2023-08-28T16:44:47.764377Z"
    },
    "papermill": {
     "duration": 0.055082,
     "end_time": "2023-08-28T16:44:47.767831",
     "exception": false,
     "start_time": "2023-08-28T16:44:47.712749",
     "status": "completed"
    },
    "tags": []
   },
   "outputs": [
    {
     "data": {
      "text/html": [
       "<div>\n",
       "<style scoped>\n",
       "    .dataframe tbody tr th:only-of-type {\n",
       "        vertical-align: middle;\n",
       "    }\n",
       "\n",
       "    .dataframe tbody tr th {\n",
       "        vertical-align: top;\n",
       "    }\n",
       "\n",
       "    .dataframe thead th {\n",
       "        text-align: right;\n",
       "    }\n",
       "</style>\n",
       "<table border=\"1\" class=\"dataframe\">\n",
       "  <thead>\n",
       "    <tr style=\"text-align: right;\">\n",
       "      <th></th>\n",
       "      <th>Name</th>\n",
       "      <th>Year</th>\n",
       "      <th>Duration</th>\n",
       "      <th>Genre</th>\n",
       "      <th>Rating</th>\n",
       "      <th>Votes</th>\n",
       "      <th>Director</th>\n",
       "      <th>Actor 1</th>\n",
       "      <th>Actor 2</th>\n",
       "      <th>Actor 3</th>\n",
       "    </tr>\n",
       "  </thead>\n",
       "  <tbody>\n",
       "    <tr>\n",
       "      <th>1</th>\n",
       "      <td>#Gadhvi (He thought he was Gandhi)</td>\n",
       "      <td>-2019.0</td>\n",
       "      <td>109 min</td>\n",
       "      <td>Drama</td>\n",
       "      <td>7.0</td>\n",
       "      <td>8</td>\n",
       "      <td>Gaurav Bakshi</td>\n",
       "      <td>Rasika Dugal</td>\n",
       "      <td>Vivek Ghamande</td>\n",
       "      <td>Arvind Jangid</td>\n",
       "    </tr>\n",
       "    <tr>\n",
       "      <th>3</th>\n",
       "      <td>#Yaaram</td>\n",
       "      <td>-2019.0</td>\n",
       "      <td>110 min</td>\n",
       "      <td>Comedy, Romance</td>\n",
       "      <td>4.4</td>\n",
       "      <td>35</td>\n",
       "      <td>Ovais Khan</td>\n",
       "      <td>Prateik</td>\n",
       "      <td>Ishita Raj</td>\n",
       "      <td>Siddhant Kapoor</td>\n",
       "    </tr>\n",
       "    <tr>\n",
       "      <th>5</th>\n",
       "      <td>...Aur Pyaar Ho Gaya</td>\n",
       "      <td>-1997.0</td>\n",
       "      <td>147 min</td>\n",
       "      <td>Comedy, Drama, Musical</td>\n",
       "      <td>4.7</td>\n",
       "      <td>827</td>\n",
       "      <td>Rahul Rawail</td>\n",
       "      <td>Bobby Deol</td>\n",
       "      <td>Aishwarya Rai Bachchan</td>\n",
       "      <td>Shammi Kapoor</td>\n",
       "    </tr>\n",
       "    <tr>\n",
       "      <th>6</th>\n",
       "      <td>...Yahaan</td>\n",
       "      <td>-2005.0</td>\n",
       "      <td>142 min</td>\n",
       "      <td>Drama, Romance, War</td>\n",
       "      <td>7.4</td>\n",
       "      <td>1,086</td>\n",
       "      <td>Shoojit Sircar</td>\n",
       "      <td>Jimmy Sheirgill</td>\n",
       "      <td>Minissha Lamba</td>\n",
       "      <td>Yashpal Sharma</td>\n",
       "    </tr>\n",
       "    <tr>\n",
       "      <th>8</th>\n",
       "      <td>?: A Question Mark</td>\n",
       "      <td>-2012.0</td>\n",
       "      <td>82 min</td>\n",
       "      <td>Horror, Mystery, Thriller</td>\n",
       "      <td>5.6</td>\n",
       "      <td>326</td>\n",
       "      <td>Allyson Patel</td>\n",
       "      <td>Yash Dave</td>\n",
       "      <td>Muntazir Ahmad</td>\n",
       "      <td>Kiran Bhatia</td>\n",
       "    </tr>\n",
       "  </tbody>\n",
       "</table>\n",
       "</div>"
      ],
      "text/plain": [
       "                                 Name    Year Duration  \\\n",
       "1  #Gadhvi (He thought he was Gandhi) -2019.0  109 min   \n",
       "3                             #Yaaram -2019.0  110 min   \n",
       "5                ...Aur Pyaar Ho Gaya -1997.0  147 min   \n",
       "6                           ...Yahaan -2005.0  142 min   \n",
       "8                  ?: A Question Mark -2012.0   82 min   \n",
       "\n",
       "                       Genre  Rating  Votes        Director          Actor 1  \\\n",
       "1                      Drama     7.0      8   Gaurav Bakshi     Rasika Dugal   \n",
       "3            Comedy, Romance     4.4     35      Ovais Khan          Prateik   \n",
       "5     Comedy, Drama, Musical     4.7    827    Rahul Rawail       Bobby Deol   \n",
       "6        Drama, Romance, War     7.4  1,086  Shoojit Sircar  Jimmy Sheirgill   \n",
       "8  Horror, Mystery, Thriller     5.6    326   Allyson Patel        Yash Dave   \n",
       "\n",
       "                  Actor 2          Actor 3  \n",
       "1          Vivek Ghamande    Arvind Jangid  \n",
       "3              Ishita Raj  Siddhant Kapoor  \n",
       "5  Aishwarya Rai Bachchan    Shammi Kapoor  \n",
       "6          Minissha Lamba   Yashpal Sharma  \n",
       "8          Muntazir Ahmad     Kiran Bhatia  "
      ]
     },
     "execution_count": 9,
     "metadata": {},
     "output_type": "execute_result"
    }
   ],
   "source": [
    "df.dropna(inplace=True)\n",
    "df.head(5)"
   ]
  },
  {
   "cell_type": "code",
   "execution_count": 10,
   "id": "7b6284b8",
   "metadata": {
    "execution": {
     "iopub.execute_input": "2023-08-28T16:44:47.794117Z",
     "iopub.status.busy": "2023-08-28T16:44:47.793796Z",
     "iopub.status.idle": "2023-08-28T16:44:47.809804Z",
     "shell.execute_reply": "2023-08-28T16:44:47.808371Z"
    },
    "papermill": {
     "duration": 0.031768,
     "end_time": "2023-08-28T16:44:47.812108",
     "exception": false,
     "start_time": "2023-08-28T16:44:47.780340",
     "status": "completed"
    },
    "tags": []
   },
   "outputs": [
    {
     "data": {
      "text/plain": [
       "Name        0\n",
       "Year        0\n",
       "Duration    0\n",
       "Genre       0\n",
       "Rating      0\n",
       "Votes       0\n",
       "Director    0\n",
       "Actor 1     0\n",
       "Actor 2     0\n",
       "Actor 3     0\n",
       "dtype: int64"
      ]
     },
     "execution_count": 10,
     "metadata": {},
     "output_type": "execute_result"
    }
   ],
   "source": [
    "df.isnull().sum()"
   ]
  },
  {
   "cell_type": "code",
   "execution_count": 11,
   "id": "69e09c15",
   "metadata": {
    "execution": {
     "iopub.execute_input": "2023-08-28T16:44:47.840146Z",
     "iopub.status.busy": "2023-08-28T16:44:47.839836Z",
     "iopub.status.idle": "2023-08-28T16:44:47.845914Z",
     "shell.execute_reply": "2023-08-28T16:44:47.845224Z"
    },
    "papermill": {
     "duration": 0.021794,
     "end_time": "2023-08-28T16:44:47.847420",
     "exception": false,
     "start_time": "2023-08-28T16:44:47.825626",
     "status": "completed"
    },
    "tags": []
   },
   "outputs": [
    {
     "data": {
      "text/plain": [
       "(5659, 10)"
      ]
     },
     "execution_count": 11,
     "metadata": {},
     "output_type": "execute_result"
    }
   ],
   "source": [
    "df.shape"
   ]
  },
  {
   "cell_type": "code",
   "execution_count": 12,
   "id": "da3febde",
   "metadata": {
    "execution": {
     "iopub.execute_input": "2023-08-28T16:44:47.927441Z",
     "iopub.status.busy": "2023-08-28T16:44:47.926723Z",
     "iopub.status.idle": "2023-08-28T16:44:47.947143Z",
     "shell.execute_reply": "2023-08-28T16:44:47.946310Z"
    },
    "papermill": {
     "duration": 0.038433,
     "end_time": "2023-08-28T16:44:47.949415",
     "exception": false,
     "start_time": "2023-08-28T16:44:47.910982",
     "status": "completed"
    },
    "tags": []
   },
   "outputs": [],
   "source": [
    "df['Duration'] = df['Duration'].str.extract('(\\d+)')\n",
    "df['Duration'] = pd.to_numeric(df['Duration'], errors='coerce')"
   ]
  },
  {
   "cell_type": "code",
   "execution_count": 13,
   "id": "dd378140",
   "metadata": {
    "execution": {
     "iopub.execute_input": "2023-08-28T16:44:47.978249Z",
     "iopub.status.busy": "2023-08-28T16:44:47.977897Z",
     "iopub.status.idle": "2023-08-28T16:44:47.983954Z",
     "shell.execute_reply": "2023-08-28T16:44:47.983245Z"
    },
    "papermill": {
     "duration": 0.023086,
     "end_time": "2023-08-28T16:44:47.985457",
     "exception": false,
     "start_time": "2023-08-28T16:44:47.962371",
     "status": "completed"
    },
    "tags": []
   },
   "outputs": [
    {
     "data": {
      "text/plain": [
       "1   -2019.0\n",
       "3   -2019.0\n",
       "5   -1997.0\n",
       "6   -2005.0\n",
       "8   -2012.0\n",
       "Name: Year, dtype: float64"
      ]
     },
     "execution_count": 13,
     "metadata": {},
     "output_type": "execute_result"
    }
   ],
   "source": [
    "df[\"Year\"].head()"
   ]
  },
  {
   "cell_type": "code",
   "execution_count": 14,
   "id": "819bdc79",
   "metadata": {
    "execution": {
     "iopub.execute_input": "2023-08-28T16:44:48.015988Z",
     "iopub.status.busy": "2023-08-28T16:44:48.015264Z",
     "iopub.status.idle": "2023-08-28T16:44:48.021854Z",
     "shell.execute_reply": "2023-08-28T16:44:48.021210Z"
    },
    "papermill": {
     "duration": 0.022642,
     "end_time": "2023-08-28T16:44:48.023481",
     "exception": false,
     "start_time": "2023-08-28T16:44:48.000839",
     "status": "completed"
    },
    "tags": []
   },
   "outputs": [
    {
     "data": {
      "text/plain": [
       "1                         Drama\n",
       "3               Comedy, Romance\n",
       "5        Comedy, Drama, Musical\n",
       "6           Drama, Romance, War\n",
       "8     Horror, Mystery, Thriller\n",
       "9       Action, Crime, Thriller\n",
       "10                        Drama\n",
       "11                       Horror\n",
       "12    Horror, Romance, Thriller\n",
       "Name: Genre, dtype: object"
      ]
     },
     "execution_count": 14,
     "metadata": {},
     "output_type": "execute_result"
    }
   ],
   "source": [
    "genre=df['Genre']\n",
    "genre.head(9)"
   ]
  },
  {
   "cell_type": "code",
   "execution_count": 15,
   "id": "0b49302c",
   "metadata": {
    "execution": {
     "iopub.execute_input": "2023-08-28T16:44:48.050875Z",
     "iopub.status.busy": "2023-08-28T16:44:48.050228Z",
     "iopub.status.idle": "2023-08-28T16:44:48.070623Z",
     "shell.execute_reply": "2023-08-28T16:44:48.069735Z"
    },
    "papermill": {
     "duration": 0.036611,
     "end_time": "2023-08-28T16:44:48.072815",
     "exception": false,
     "start_time": "2023-08-28T16:44:48.036204",
     "status": "completed"
    },
    "tags": []
   },
   "outputs": [
    {
     "data": {
      "text/html": [
       "<div>\n",
       "<style scoped>\n",
       "    .dataframe tbody tr th:only-of-type {\n",
       "        vertical-align: middle;\n",
       "    }\n",
       "\n",
       "    .dataframe tbody tr th {\n",
       "        vertical-align: top;\n",
       "    }\n",
       "\n",
       "    .dataframe thead th {\n",
       "        text-align: right;\n",
       "    }\n",
       "</style>\n",
       "<table border=\"1\" class=\"dataframe\">\n",
       "  <thead>\n",
       "    <tr style=\"text-align: right;\">\n",
       "      <th></th>\n",
       "      <th>0</th>\n",
       "      <th>1</th>\n",
       "      <th>2</th>\n",
       "    </tr>\n",
       "  </thead>\n",
       "  <tbody>\n",
       "    <tr>\n",
       "      <th>1</th>\n",
       "      <td>Drama</td>\n",
       "      <td>None</td>\n",
       "      <td>None</td>\n",
       "    </tr>\n",
       "    <tr>\n",
       "      <th>3</th>\n",
       "      <td>Comedy</td>\n",
       "      <td>Romance</td>\n",
       "      <td>None</td>\n",
       "    </tr>\n",
       "    <tr>\n",
       "      <th>5</th>\n",
       "      <td>Comedy</td>\n",
       "      <td>Drama</td>\n",
       "      <td>Musical</td>\n",
       "    </tr>\n",
       "    <tr>\n",
       "      <th>6</th>\n",
       "      <td>Drama</td>\n",
       "      <td>Romance</td>\n",
       "      <td>War</td>\n",
       "    </tr>\n",
       "    <tr>\n",
       "      <th>8</th>\n",
       "      <td>Horror</td>\n",
       "      <td>Mystery</td>\n",
       "      <td>Thriller</td>\n",
       "    </tr>\n",
       "    <tr>\n",
       "      <th>9</th>\n",
       "      <td>Action</td>\n",
       "      <td>Crime</td>\n",
       "      <td>Thriller</td>\n",
       "    </tr>\n",
       "    <tr>\n",
       "      <th>10</th>\n",
       "      <td>Drama</td>\n",
       "      <td>None</td>\n",
       "      <td>None</td>\n",
       "    </tr>\n",
       "    <tr>\n",
       "      <th>11</th>\n",
       "      <td>Horror</td>\n",
       "      <td>None</td>\n",
       "      <td>None</td>\n",
       "    </tr>\n",
       "    <tr>\n",
       "      <th>12</th>\n",
       "      <td>Horror</td>\n",
       "      <td>Romance</td>\n",
       "      <td>Thriller</td>\n",
       "    </tr>\n",
       "  </tbody>\n",
       "</table>\n",
       "</div>"
      ],
      "text/plain": [
       "         0         1          2\n",
       "1    Drama      None       None\n",
       "3   Comedy   Romance       None\n",
       "5   Comedy     Drama    Musical\n",
       "6    Drama   Romance        War\n",
       "8   Horror   Mystery   Thriller\n",
       "9   Action     Crime   Thriller\n",
       "10   Drama      None       None\n",
       "11  Horror      None       None\n",
       "12  Horror   Romance   Thriller"
      ]
     },
     "execution_count": 15,
     "metadata": {},
     "output_type": "execute_result"
    }
   ],
   "source": [
    "genres=df['Genre'].str.split(',',expand=True)\n",
    "genres.head(9)"
   ]
  },
  {
   "cell_type": "code",
   "execution_count": 16,
   "id": "941facfa",
   "metadata": {
    "execution": {
     "iopub.execute_input": "2023-08-28T16:44:48.110069Z",
     "iopub.status.busy": "2023-08-28T16:44:48.108654Z",
     "iopub.status.idle": "2023-08-28T16:44:48.123424Z",
     "shell.execute_reply": "2023-08-28T16:44:48.122363Z"
    },
    "papermill": {
     "duration": 0.035646,
     "end_time": "2023-08-28T16:44:48.126803",
     "exception": false,
     "start_time": "2023-08-28T16:44:48.091157",
     "status": "completed"
    },
    "tags": []
   },
   "outputs": [
    {
     "name": "stdout",
     "output_type": "stream",
     "text": [
      " Action: 68\n",
      " Adventure: 344\n",
      " Biography: 62\n",
      " Comedy: 710\n",
      " Crime: 1208\n",
      " Drama: 3908\n",
      " Family: 728\n",
      " Fantasy: 230\n",
      " History: 182\n",
      " Horror: 148\n",
      " Music: 100\n",
      " Musical: 644\n",
      " Mystery: 490\n",
      " News: 2\n",
      " Romance: 2442\n",
      " Sci-Fi: 56\n",
      " Sport: 76\n",
      " Thriller: 1180\n",
      " War: 60\n",
      " Western: 2\n",
      "Action: 3304\n",
      "Adventure: 210\n",
      "Animation: 80\n",
      "Biography: 168\n",
      "Comedy: 1978\n",
      "Crime: 542\n",
      "Documentary: 96\n",
      "Drama: 3684\n",
      "Family: 104\n",
      "Fantasy: 62\n",
      "History: 16\n",
      "Horror: 256\n",
      "Music: 6\n",
      "Musical: 180\n",
      "Mystery: 118\n",
      "Romance: 318\n",
      "Sci-Fi: 8\n",
      "Sport: 4\n",
      "Thriller: 178\n",
      "War: 6\n"
     ]
    }
   ],
   "source": [
    "genre_counts = {}\n",
    "for genre in genres.values.flatten():\n",
    "    if genre is not None:\n",
    "        if genre in genre_counts:\n",
    "            genre_counts[genre] += 2\n",
    "        else:\n",
    "            genre_counts[genre] = 2\n",
    "\n",
    "genereCounts = {genre: count for genre, count in sorted(genre_counts.items())}\n",
    "for genre, count in genereCounts.items():\n",
    "    print(f\"{genre}: {count}\")"
   ]
  },
  {
   "cell_type": "code",
   "execution_count": 17,
   "id": "d0bab9be",
   "metadata": {
    "execution": {
     "iopub.execute_input": "2023-08-28T16:44:48.165091Z",
     "iopub.status.busy": "2023-08-28T16:44:48.164083Z",
     "iopub.status.idle": "2023-08-28T16:44:48.172416Z",
     "shell.execute_reply": "2023-08-28T16:44:48.171701Z"
    },
    "papermill": {
     "duration": 0.028627,
     "end_time": "2023-08-28T16:44:48.174382",
     "exception": false,
     "start_time": "2023-08-28T16:44:48.145755",
     "status": "completed"
    },
    "tags": []
   },
   "outputs": [
    {
     "data": {
      "text/plain": [
       "Genre\n",
       "Drama                     844\n",
       "Drama, Romance            332\n",
       "Action, Crime, Drama      329\n",
       "Action, Drama             206\n",
       "Comedy, Drama             205\n",
       "Comedy, Drama, Romance    188\n",
       "Comedy                    187\n",
       "Action                    170\n",
       "Drama, Family             160\n",
       "Romance                   126\n",
       "Action, Comedy, Drama     118\n",
       "Name: count, dtype: int64"
      ]
     },
     "execution_count": 17,
     "metadata": {},
     "output_type": "execute_result"
    }
   ],
   "source": [
    "genresPie = df['Genre'].value_counts()\n",
    "genresPie.head(11)"
   ]
  },
  {
   "cell_type": "code",
   "execution_count": 18,
   "id": "0061b88e",
   "metadata": {
    "execution": {
     "iopub.execute_input": "2023-08-28T16:44:48.211859Z",
     "iopub.status.busy": "2023-08-28T16:44:48.211206Z",
     "iopub.status.idle": "2023-08-28T16:44:48.222516Z",
     "shell.execute_reply": "2023-08-28T16:44:48.221414Z"
    },
    "papermill": {
     "duration": 0.033538,
     "end_time": "2023-08-28T16:44:48.224697",
     "exception": false,
     "start_time": "2023-08-28T16:44:48.191159",
     "status": "completed"
    },
    "tags": []
   },
   "outputs": [
    {
     "data": {
      "text/html": [
       "<div>\n",
       "<style scoped>\n",
       "    .dataframe tbody tr th:only-of-type {\n",
       "        vertical-align: middle;\n",
       "    }\n",
       "\n",
       "    .dataframe tbody tr th {\n",
       "        vertical-align: top;\n",
       "    }\n",
       "\n",
       "    .dataframe thead th {\n",
       "        text-align: right;\n",
       "    }\n",
       "</style>\n",
       "<table border=\"1\" class=\"dataframe\">\n",
       "  <thead>\n",
       "    <tr style=\"text-align: right;\">\n",
       "      <th></th>\n",
       "      <th>Genre</th>\n",
       "      <th>Count</th>\n",
       "    </tr>\n",
       "  </thead>\n",
       "  <tbody>\n",
       "    <tr>\n",
       "      <th>0</th>\n",
       "      <td>Drama</td>\n",
       "      <td>844</td>\n",
       "    </tr>\n",
       "    <tr>\n",
       "      <th>1</th>\n",
       "      <td>Drama, Romance</td>\n",
       "      <td>332</td>\n",
       "    </tr>\n",
       "    <tr>\n",
       "      <th>2</th>\n",
       "      <td>Action, Crime, Drama</td>\n",
       "      <td>329</td>\n",
       "    </tr>\n",
       "    <tr>\n",
       "      <th>3</th>\n",
       "      <td>Action, Drama</td>\n",
       "      <td>206</td>\n",
       "    </tr>\n",
       "    <tr>\n",
       "      <th>4</th>\n",
       "      <td>Comedy, Drama</td>\n",
       "      <td>205</td>\n",
       "    </tr>\n",
       "    <tr>\n",
       "      <th>5</th>\n",
       "      <td>Comedy, Drama, Romance</td>\n",
       "      <td>188</td>\n",
       "    </tr>\n",
       "    <tr>\n",
       "      <th>6</th>\n",
       "      <td>Comedy</td>\n",
       "      <td>187</td>\n",
       "    </tr>\n",
       "    <tr>\n",
       "      <th>7</th>\n",
       "      <td>Action</td>\n",
       "      <td>170</td>\n",
       "    </tr>\n",
       "    <tr>\n",
       "      <th>8</th>\n",
       "      <td>Drama, Family</td>\n",
       "      <td>160</td>\n",
       "    </tr>\n",
       "    <tr>\n",
       "      <th>9</th>\n",
       "      <td>Romance</td>\n",
       "      <td>126</td>\n",
       "    </tr>\n",
       "    <tr>\n",
       "      <th>10</th>\n",
       "      <td>Action, Comedy, Drama</td>\n",
       "      <td>118</td>\n",
       "    </tr>\n",
       "  </tbody>\n",
       "</table>\n",
       "</div>"
      ],
      "text/plain": [
       "                     Genre  Count\n",
       "0                    Drama    844\n",
       "1           Drama, Romance    332\n",
       "2     Action, Crime, Drama    329\n",
       "3            Action, Drama    206\n",
       "4            Comedy, Drama    205\n",
       "5   Comedy, Drama, Romance    188\n",
       "6                   Comedy    187\n",
       "7                   Action    170\n",
       "8            Drama, Family    160\n",
       "9                  Romance    126\n",
       "10   Action, Comedy, Drama    118"
      ]
     },
     "execution_count": 18,
     "metadata": {},
     "output_type": "execute_result"
    }
   ],
   "source": [
    "genrePie = pd.DataFrame(list(genresPie.items()))\n",
    "genrePie = genrePie.rename(columns={0: 'Genre', 1: 'Count'})\n",
    "genrePie.head(11)"
   ]
  },
  {
   "cell_type": "code",
   "execution_count": 19,
   "id": "e41381fd",
   "metadata": {
    "execution": {
     "iopub.execute_input": "2023-08-28T16:44:48.260110Z",
     "iopub.status.busy": "2023-08-28T16:44:48.259472Z",
     "iopub.status.idle": "2023-08-28T16:44:48.270265Z",
     "shell.execute_reply": "2023-08-28T16:44:48.269621Z"
    },
    "papermill": {
     "duration": 0.031995,
     "end_time": "2023-08-28T16:44:48.273101",
     "exception": false,
     "start_time": "2023-08-28T16:44:48.241106",
     "status": "completed"
    },
    "tags": []
   },
   "outputs": [
    {
     "data": {
      "text/plain": [
       "1       8\n",
       "3      35\n",
       "5     827\n",
       "6    1086\n",
       "8     326\n",
       "Name: Votes, dtype: int32"
      ]
     },
     "execution_count": 19,
     "metadata": {},
     "output_type": "execute_result"
    }
   ],
   "source": [
    "df['Votes'] = df['Votes'].str.replace(',', '').astype(int)\n",
    "df[\"Votes\"].head(5)"
   ]
  },
  {
   "cell_type": "code",
   "execution_count": 20,
   "id": "f56d3ea4",
   "metadata": {
    "execution": {
     "iopub.execute_input": "2023-08-28T16:44:48.308143Z",
     "iopub.status.busy": "2023-08-28T16:44:48.307847Z",
     "iopub.status.idle": "2023-08-28T16:44:48.314522Z",
     "shell.execute_reply": "2023-08-28T16:44:48.313539Z"
    },
    "papermill": {
     "duration": 0.027023,
     "end_time": "2023-08-28T16:44:48.316231",
     "exception": false,
     "start_time": "2023-08-28T16:44:48.289208",
     "status": "completed"
    },
    "tags": []
   },
   "outputs": [
    {
     "data": {
      "text/plain": [
       "2431"
      ]
     },
     "execution_count": 20,
     "metadata": {},
     "output_type": "execute_result"
    }
   ],
   "source": [
    "df[\"Director\"].nunique()"
   ]
  },
  {
   "cell_type": "code",
   "execution_count": 21,
   "id": "a2406d6f",
   "metadata": {
    "execution": {
     "iopub.execute_input": "2023-08-28T16:44:48.344863Z",
     "iopub.status.busy": "2023-08-28T16:44:48.344562Z",
     "iopub.status.idle": "2023-08-28T16:44:48.352400Z",
     "shell.execute_reply": "2023-08-28T16:44:48.351756Z"
    },
    "papermill": {
     "duration": 0.024223,
     "end_time": "2023-08-28T16:44:48.354054",
     "exception": false,
     "start_time": "2023-08-28T16:44:48.329831",
     "status": "completed"
    },
    "tags": []
   },
   "outputs": [
    {
     "data": {
      "text/plain": [
       "Director\n",
       "David Dhawan            41\n",
       "Mahesh Bhatt            39\n",
       "Ram Gopal Varma         33\n",
       "Hrishikesh Mukherjee    33\n",
       "Shakti Samanta          33\n",
       "Vikram Bhatt            30\n",
       "Priyadarshan            29\n",
       "Basu Chatterjee         23\n",
       "Rama Rao Tatineni       23\n",
       "Name: count, dtype: int64"
      ]
     },
     "execution_count": 21,
     "metadata": {},
     "output_type": "execute_result"
    }
   ],
   "source": [
    "directors = df[\"Director\"].value_counts()\n",
    "directors.head(9)"
   ]
  },
  {
   "cell_type": "code",
   "execution_count": 22,
   "id": "432fd32a",
   "metadata": {
    "execution": {
     "iopub.execute_input": "2023-08-28T16:44:48.382977Z",
     "iopub.status.busy": "2023-08-28T16:44:48.382408Z",
     "iopub.status.idle": "2023-08-28T16:44:48.396685Z",
     "shell.execute_reply": "2023-08-28T16:44:48.395435Z"
    },
    "papermill": {
     "duration": 0.031538,
     "end_time": "2023-08-28T16:44:48.398949",
     "exception": false,
     "start_time": "2023-08-28T16:44:48.367411",
     "status": "completed"
    },
    "tags": []
   },
   "outputs": [
    {
     "data": {
      "text/plain": [
       "Mithun Chakraborty    160\n",
       "Amitabh Bachchan      148\n",
       "Dharmendra            146\n",
       "Ashok Kumar           124\n",
       "Akshay Kumar          120\n",
       "Shashi Kapoor         117\n",
       "Jeetendra             116\n",
       "Sanjay Dutt           101\n",
       "Rekha                  92\n",
       "Name: count, dtype: int64"
      ]
     },
     "execution_count": 22,
     "metadata": {},
     "output_type": "execute_result"
    }
   ],
   "source": [
    "actors = pd.concat([df['Actor 1'], df['Actor 2'], df['Actor 3']]).dropna().value_counts()\n",
    "actors.head(9)\n"
   ]
  },
  {
   "cell_type": "markdown",
   "id": "e561032d",
   "metadata": {
    "papermill": {
     "duration": 0.017496,
     "end_time": "2023-08-28T16:44:48.434365",
     "exception": false,
     "start_time": "2023-08-28T16:44:48.416869",
     "status": "completed"
    },
    "tags": []
   },
   "source": [
    "# THE DATA VISUALIZATION"
   ]
  },
  {
   "cell_type": "code",
   "execution_count": 23,
   "id": "f3ea92c8",
   "metadata": {
    "execution": {
     "iopub.execute_input": "2023-08-28T16:44:48.470861Z",
     "iopub.status.busy": "2023-08-28T16:44:48.470199Z",
     "iopub.status.idle": "2023-08-28T16:44:50.465126Z",
     "shell.execute_reply": "2023-08-28T16:44:50.463815Z"
    },
    "papermill": {
     "duration": 2.016053,
     "end_time": "2023-08-28T16:44:50.467589",
     "exception": false,
     "start_time": "2023-08-28T16:44:48.451536",
     "status": "completed"
    },
    "tags": []
   },
   "outputs": [],
   "source": [
    "import seaborn as sb\n",
    "import plotly.express as px\n",
    "import matplotlib.pyplot as mpl\n",
    "from wordcloud import WordCloud"
   ]
  },
  {
   "cell_type": "code",
   "execution_count": 24,
   "id": "20fa70ef",
   "metadata": {
    "execution": {
     "iopub.execute_input": "2023-08-28T16:44:50.496799Z",
     "iopub.status.busy": "2023-08-28T16:44:50.496442Z",
     "iopub.status.idle": "2023-08-28T16:44:50.501557Z",
     "shell.execute_reply": "2023-08-28T16:44:50.500577Z"
    },
    "papermill": {
     "duration": 0.021707,
     "end_time": "2023-08-28T16:44:50.503292",
     "exception": false,
     "start_time": "2023-08-28T16:44:50.481585",
     "status": "completed"
    },
    "tags": []
   },
   "outputs": [],
   "source": [
    "sb.set(style = \"ticks\", font = \"Times New Roman\")"
   ]
  },
  {
   "cell_type": "code",
   "execution_count": 25,
   "id": "4b0148d9",
   "metadata": {
    "execution": {
     "iopub.execute_input": "2023-08-28T16:44:50.852679Z",
     "iopub.status.busy": "2023-08-28T16:44:50.852240Z",
     "iopub.status.idle": "2023-08-28T16:44:51.005686Z",
     "shell.execute_reply": "2023-08-28T16:44:51.004353Z"
    },
    "papermill": {
     "duration": 0.171853,
     "end_time": "2023-08-28T16:44:51.008403",
     "exception": false,
     "start_time": "2023-08-28T16:44:50.836550",
     "status": "completed"
    },
    "tags": []
   },
   "outputs": [
    {
     "data": {
      "image/png": "[encoded data removed]",
      "text/plain": [
       "<Figure size 640x480 with 1 Axes>"
      ]
     },
     "metadata": {},
     "output_type": "display_data"
    }
   ],
   "source": [
    "ax = sb.boxplot(data=df, y='Year')\n",
    "ax.set_ylabel('Year')\n",
    "ax.set_title('Box Plot of Year')\n",
    "mpl.show()"
   ]
  },
  {
   "cell_type": "code",
   "execution_count": 26,
   "id": "fa32a4a2",
   "metadata": {
    "execution": {
     "iopub.execute_input": "2023-08-28T16:44:51.345259Z",
     "iopub.status.busy": "2023-08-28T16:44:51.344882Z",
     "iopub.status.idle": "2023-08-28T16:44:51.515949Z",
     "shell.execute_reply": "2023-08-28T16:44:51.515224Z"
    },
    "papermill": {
     "duration": 0.189063,
     "end_time": "2023-08-28T16:44:51.517768",
     "exception": false,
     "start_time": "2023-08-28T16:44:51.328705",
     "status": "completed"
    },
    "tags": []
   },
   "outputs": [
    {
     "data": {
      "image/png": "[encoded data removed]",
      "text/plain": [
       "<Figure size 640x480 with 1 Axes>"
      ]
     },
     "metadata": {},
     "output_type": "display_data"
    }
   ],
   "source": [
    "ax = sb.boxplot(data=df, y='Duration')\n",
    "ax.set_title(\"Box Plot of Average Movie Durations\")\n",
    "ax.set_ylabel('Average Duration(in minutes)')\n",
    "mpl.show()"
   ]
  },
  {
   "cell_type": "code",
   "execution_count": 27,
   "id": "5b111479",
   "metadata": {
    "execution": {
     "iopub.execute_input": "2023-08-28T16:44:51.553228Z",
     "iopub.status.busy": "2023-08-28T16:44:51.552685Z",
     "iopub.status.idle": "2023-08-28T16:44:51.570797Z",
     "shell.execute_reply": "2023-08-28T16:44:51.569867Z"
    },
    "papermill": {
     "duration": 0.038567,
     "end_time": "2023-08-28T16:44:51.572676",
     "exception": false,
     "start_time": "2023-08-28T16:44:51.534109",
     "status": "completed"
    },
    "tags": []
   },
   "outputs": [
    {
     "data": {
      "text/html": [
       "<div>\n",
       "<style scoped>\n",
       "    .dataframe tbody tr th:only-of-type {\n",
       "        vertical-align: middle;\n",
       "    }\n",
       "\n",
       "    .dataframe tbody tr th {\n",
       "        vertical-align: top;\n",
       "    }\n",
       "\n",
       "    .dataframe thead th {\n",
       "        text-align: right;\n",
       "    }\n",
       "</style>\n",
       "<table border=\"1\" class=\"dataframe\">\n",
       "  <thead>\n",
       "    <tr style=\"text-align: right;\">\n",
       "      <th></th>\n",
       "      <th>Name</th>\n",
       "      <th>Year</th>\n",
       "      <th>Duration</th>\n",
       "      <th>Genre</th>\n",
       "      <th>Rating</th>\n",
       "      <th>Votes</th>\n",
       "      <th>Director</th>\n",
       "      <th>Actor 1</th>\n",
       "      <th>Actor 2</th>\n",
       "      <th>Actor 3</th>\n",
       "    </tr>\n",
       "  </thead>\n",
       "  <tbody>\n",
       "    <tr>\n",
       "      <th>1</th>\n",
       "      <td>#Gadhvi (He thought he was Gandhi)</td>\n",
       "      <td>-2019.0</td>\n",
       "      <td>109</td>\n",
       "      <td>Drama</td>\n",
       "      <td>7.0</td>\n",
       "      <td>8</td>\n",
       "      <td>Gaurav Bakshi</td>\n",
       "      <td>Rasika Dugal</td>\n",
       "      <td>Vivek Ghamande</td>\n",
       "      <td>Arvind Jangid</td>\n",
       "    </tr>\n",
       "    <tr>\n",
       "      <th>3</th>\n",
       "      <td>#Yaaram</td>\n",
       "      <td>-2019.0</td>\n",
       "      <td>110</td>\n",
       "      <td>Comedy, Romance</td>\n",
       "      <td>4.4</td>\n",
       "      <td>35</td>\n",
       "      <td>Ovais Khan</td>\n",
       "      <td>Prateik</td>\n",
       "      <td>Ishita Raj</td>\n",
       "      <td>Siddhant Kapoor</td>\n",
       "    </tr>\n",
       "    <tr>\n",
       "      <th>5</th>\n",
       "      <td>...Aur Pyaar Ho Gaya</td>\n",
       "      <td>-1997.0</td>\n",
       "      <td>147</td>\n",
       "      <td>Comedy, Drama, Musical</td>\n",
       "      <td>4.7</td>\n",
       "      <td>827</td>\n",
       "      <td>Rahul Rawail</td>\n",
       "      <td>Bobby Deol</td>\n",
       "      <td>Aishwarya Rai Bachchan</td>\n",
       "      <td>Shammi Kapoor</td>\n",
       "    </tr>\n",
       "    <tr>\n",
       "      <th>6</th>\n",
       "      <td>...Yahaan</td>\n",
       "      <td>-2005.0</td>\n",
       "      <td>142</td>\n",
       "      <td>Drama, Romance, War</td>\n",
       "      <td>7.4</td>\n",
       "      <td>1086</td>\n",
       "      <td>Shoojit Sircar</td>\n",
       "      <td>Jimmy Sheirgill</td>\n",
       "      <td>Minissha Lamba</td>\n",
       "      <td>Yashpal Sharma</td>\n",
       "    </tr>\n",
       "    <tr>\n",
       "      <th>8</th>\n",
       "      <td>?: A Question Mark</td>\n",
       "      <td>-2012.0</td>\n",
       "      <td>82</td>\n",
       "      <td>Horror, Mystery, Thriller</td>\n",
       "      <td>5.6</td>\n",
       "      <td>326</td>\n",
       "      <td>Allyson Patel</td>\n",
       "      <td>Yash Dave</td>\n",
       "      <td>Muntazir Ahmad</td>\n",
       "      <td>Kiran Bhatia</td>\n",
       "    </tr>\n",
       "    <tr>\n",
       "      <th>9</th>\n",
       "      <td>@Andheri</td>\n",
       "      <td>-2014.0</td>\n",
       "      <td>116</td>\n",
       "      <td>Action, Crime, Thriller</td>\n",
       "      <td>4.0</td>\n",
       "      <td>11</td>\n",
       "      <td>Biju Bhaskar Nair</td>\n",
       "      <td>Augustine</td>\n",
       "      <td>Fathima Babu</td>\n",
       "      <td>Byon</td>\n",
       "    </tr>\n",
       "    <tr>\n",
       "      <th>10</th>\n",
       "      <td>1:1.6 An Ode to Lost Love</td>\n",
       "      <td>-2004.0</td>\n",
       "      <td>96</td>\n",
       "      <td>Drama</td>\n",
       "      <td>6.2</td>\n",
       "      <td>17</td>\n",
       "      <td>Madhu Ambat</td>\n",
       "      <td>Rati Agnihotri</td>\n",
       "      <td>Gulshan Grover</td>\n",
       "      <td>Atul Kulkarni</td>\n",
       "    </tr>\n",
       "    <tr>\n",
       "      <th>11</th>\n",
       "      <td>1:13:7 Ek Tera Saath</td>\n",
       "      <td>-2016.0</td>\n",
       "      <td>120</td>\n",
       "      <td>Horror</td>\n",
       "      <td>5.9</td>\n",
       "      <td>59</td>\n",
       "      <td>Arshad Siddiqui</td>\n",
       "      <td>Pankaj Berry</td>\n",
       "      <td>Anubhav Dhir</td>\n",
       "      <td>Hritu Dudani</td>\n",
       "    </tr>\n",
       "    <tr>\n",
       "      <th>12</th>\n",
       "      <td>100 Days</td>\n",
       "      <td>-1991.0</td>\n",
       "      <td>161</td>\n",
       "      <td>Horror, Romance, Thriller</td>\n",
       "      <td>6.5</td>\n",
       "      <td>983</td>\n",
       "      <td>Partho Ghosh</td>\n",
       "      <td>Jackie Shroff</td>\n",
       "      <td>Madhuri Dixit</td>\n",
       "      <td>Javed Jaffrey</td>\n",
       "    </tr>\n",
       "  </tbody>\n",
       "</table>\n",
       "</div>"
      ],
      "text/plain": [
       "                                  Name    Year  Duration  \\\n",
       "1   #Gadhvi (He thought he was Gandhi) -2019.0       109   \n",
       "3                              #Yaaram -2019.0       110   \n",
       "5                 ...Aur Pyaar Ho Gaya -1997.0       147   \n",
       "6                            ...Yahaan -2005.0       142   \n",
       "8                   ?: A Question Mark -2012.0        82   \n",
       "9                             @Andheri -2014.0       116   \n",
       "10           1:1.6 An Ode to Lost Love -2004.0        96   \n",
       "11                1:13:7 Ek Tera Saath -2016.0       120   \n",
       "12                            100 Days -1991.0       161   \n",
       "\n",
       "                        Genre  Rating  Votes           Director  \\\n",
       "1                       Drama     7.0      8      Gaurav Bakshi   \n",
       "3             Comedy, Romance     4.4     35         Ovais Khan   \n",
       "5      Comedy, Drama, Musical     4.7    827       Rahul Rawail   \n",
       "6         Drama, Romance, War     7.4   1086     Shoojit Sircar   \n",
       "8   Horror, Mystery, Thriller     5.6    326      Allyson Patel   \n",
       "9     Action, Crime, Thriller     4.0     11  Biju Bhaskar Nair   \n",
       "10                      Drama     6.2     17        Madhu Ambat   \n",
       "11                     Horror     5.9     59    Arshad Siddiqui   \n",
       "12  Horror, Romance, Thriller     6.5    983       Partho Ghosh   \n",
       "\n",
       "            Actor 1                 Actor 2          Actor 3  \n",
       "1      Rasika Dugal          Vivek Ghamande    Arvind Jangid  \n",
       "3           Prateik              Ishita Raj  Siddhant Kapoor  \n",
       "5        Bobby Deol  Aishwarya Rai Bachchan    Shammi Kapoor  \n",
       "6   Jimmy Sheirgill          Minissha Lamba   Yashpal Sharma  \n",
       "8         Yash Dave          Muntazir Ahmad     Kiran Bhatia  \n",
       "9         Augustine            Fathima Babu             Byon  \n",
       "10   Rati Agnihotri          Gulshan Grover    Atul Kulkarni  \n",
       "11     Pankaj Berry            Anubhav Dhir     Hritu Dudani  \n",
       "12    Jackie Shroff           Madhuri Dixit    Javed Jaffrey  "
      ]
     },
     "execution_count": 27,
     "metadata": {},
     "output_type": "execute_result"
    }
   ],
   "source": [
    "Q1 = df['Duration'].quantile(0.28)\n",
    "Q3 = df['Duration'].quantile(0.78)\n",
    "IQR = Q3 - Q1\n",
    "lower_bound = Q1 - 1.5 * IQR\n",
    "upper_bound = Q3 + 1.5 * IQR\n",
    "df = df[(df['Duration'] >= lower_bound) & (df['Duration'] <= upper_bound)]\n",
    "df.head(9)"
   ]
  },
  {
   "cell_type": "code",
   "execution_count": 28,
   "id": "d2fe172f",
   "metadata": {
    "execution": {
     "iopub.execute_input": "2023-08-28T16:44:51.606733Z",
     "iopub.status.busy": "2023-08-28T16:44:51.605330Z",
     "iopub.status.idle": "2023-08-28T16:44:52.007096Z",
     "shell.execute_reply": "2023-08-28T16:44:52.006279Z"
    },
    "papermill": {
     "duration": 0.420478,
     "end_time": "2023-08-28T16:44:52.009100",
     "exception": false,
     "start_time": "2023-08-28T16:44:51.588622",
     "status": "completed"
    },
    "tags": []
   },
   "outputs": [
    {
     "data": {
      "image/png": "[encoded data removed]",
      "text/plain": [
       "<Figure size 1200x900 with 1 Axes>"
      ]
     },
     "metadata": {},
     "output_type": "display_data"
    }
   ],
   "source": [
    "genre_counts = df['Genre'].str.split(', ', expand=True).stack().value_counts()\n",
    "\n",
    "wordcloud = WordCloud(width=1000, height=500, background_color='pink').generate_from_frequencies(genre_counts)\n",
    "\n",
    "mpl.figure(figsize=(12, 9))\n",
    "mpl.imshow(wordcloud, interpolation='bilinear')\n",
    "mpl.axis('off')\n",
    "mpl.title('Genre Word Cloud')\n",
    "mpl.show()"
   ]
  },
  {
   "cell_type": "code",
   "execution_count": 29,
   "id": "dd3170ea",
   "metadata": {
    "execution": {
     "iopub.execute_input": "2023-08-28T16:44:52.045125Z",
     "iopub.status.busy": "2023-08-28T16:44:52.044744Z",
     "iopub.status.idle": "2023-08-28T16:44:52.621011Z",
     "shell.execute_reply": "2023-08-28T16:44:52.619394Z"
    },
    "papermill": {
     "duration": 0.597502,
     "end_time": "2023-08-28T16:44:52.623851",
     "exception": false,
     "start_time": "2023-08-28T16:44:52.026349",
     "status": "completed"
    },
    "tags": []
   },
   "outputs": [
    {
     "data": {
      "image/png": "[encoded data removed]",
      "text/plain": [
       "<Figure size 640x480 with 1 Axes>"
      ]
     },
     "metadata": {},
     "output_type": "display_data"
    }
   ],
   "source": [
    "genreLabels = sorted(genereCounts.keys())\n",
    "genreCounts = sorted(genereCounts.values())\n",
    "ax = sb.barplot(x = genreLabels, y = genreCounts)\n",
    "ax.set_xticklabels(labels=genreLabels, rotation = 97)\n",
    "mpl.show()"
   ]
  },
  {
   "cell_type": "code",
   "execution_count": 30,
   "id": "0ccb6f57",
   "metadata": {
    "execution": {
     "iopub.execute_input": "2023-08-28T16:44:52.661873Z",
     "iopub.status.busy": "2023-08-28T16:44:52.661494Z",
     "iopub.status.idle": "2023-08-28T16:44:54.335629Z",
     "shell.execute_reply": "2023-08-28T16:44:54.334756Z"
    },
    "papermill": {
     "duration": 1.695566,
     "end_time": "2023-08-28T16:44:54.338173",
     "exception": false,
     "start_time": "2023-08-28T16:44:52.642607",
     "status": "completed"
    },
    "tags": []
   },
   "outputs": [
    {
     "data": {
      "application/vnd.plotly.v1+json": {
       "config": {
        "plotlyServerURL": "https://plot.ly"
       },
       "data": [
        {
         "domain": {
          "x": [
           0,
           1
          ],
          "y": [
           0,
           1
          ]
         },
         "hovertemplate": "Genre=%{label}<br>Count=%{value}<extra></extra>",
         "labels": [
          "Drama",
          "Drama, Romance",
          "Action, Crime, Drama",
          "Action, Drama",
          "Comedy, Drama",
          "Comedy, Drama, Romance",
          "Comedy",
          "Action",
          "Drama, Family",
          "Romance",
          "Action, Comedy, Drama",
          "Comedy, Romance",
          "Action, Drama, Romance",
          "Drama, Musical, Romance",
          "Thriller",
          "Action, Comedy, Crime",
          "Horror",
          "Action, Thriller",
          "Other",
          "Other",
          "Other",
          "Other",
          "Other",
          "Other",
          "Other",
          "Other",
          "Other",
          "Other",
          "Other",
          "Other",
          "Other",
          "Other",
          "Other",
          "Other",
          "Other",
          "Other",
          "Other",
          "Other",
          "Other",
          "Other",
          "Other",
          "Other",
          "Other",
          "Other",
          "Other",
          "Other",
          "Other",
          "Other",
          "Other",
          "Other",
          "Other",
          "Other",
          "Other",
          "Other",
          "Other",
          "Other",
          "Other",
          "Other",
          "Other",
          "Other",
          "Other",
          "Other",
          "Other",
          "Other",
          "Other",
          "Other",
          "Other",
          "Other",
          "Other",
          "Other",
          "Other",
          "Other",
          "Other",
          "Other",
          "Other",
          "Other",
          "Other",
          "Other",
          "Other",
          "Other",
          "Other",
          "Other",
          "Other",
          "Other",
          "Other",
          "Other",
          "Other",
          "Other",
          "Other",
          "Other",
          "Other",
          "Other",
          "Other",
          "Other",
          "Other",
          "Other",
          "Other",
          "Other",
          "Other",
          "Other",
          "Other",
          "Other",
          "Other",
          "Other",
          "Other",
          "Other",
          "Other",
          "Other",
          "Other",
          "Other",
          "Other",
          "Other",
          "Other",
          "Other",
          "Other",
          "Other",
          "Other",
          "Other",
          "Other",
          "Other",
          "Other",
          "Other",
          "Other",
          "Other",
          "Other",
          "Other",
          "Other",
          "Other",
          "Other",
          "Other",
          "Other",
          "Other",
          "Other",
          "Other",
          "Other",
          "Other",
          "Other",
          "Other",
          "Other",
          "Other",
          "Other",
          "Other",
          "Other",
          "Other",
          "Other",
          "Other",
          "Other",
          "Other",
          "Other",
          "Other",
          "Other",
          "Other",
          "Other",
          "Other",
          "Other",
          "Other",
          "Other",
          "Other",
          "Other",
          "Other",
          "Other",
          "Other",
          "Other",
          "Other",
          "Other",
          "Other",
          "Other",
          "Other",
          "Other",
          "Other",
          "Other",
          "Other",
          "Other",
          "Other",
          "Other",
          "Other",
          "Other",
          "Other",
          "Other",
          "Other",
          "Other",
          "Other",
          "Other",
          "Other",
          "Other",
          "Other",
          "Other",
          "Other",
          "Other",
          "Other",
          "Other",
          "Other",
          "Other",
          "Other",
          "Other",
          "Other",
          "Other",
          "Other",
          "Other",
          "Other",
          "Other",
          "Other",
          "Other",
          "Other",
          "Other",
          "Other",
          "Other",
          "Other",
          "Other",
          "Other",
          "Other",
          "Other",
          "Other",
          "Other",
          "Other",
          "Other",
          "Other",
          "Other",
          "Other",
          "Other",
          "Other",
          "Other",
          "Other",
          "Other",
          "Other",
          "Other",
          "Other",
          "Other",
          "Other",
          "Other",
          "Other",
          "Other",
          "Other",
          "Other",
          "Other",
          "Other",
          "Other",
          "Other",
          "Other",
          "Other",
          "Other",
          "Other",
          "Other",
          "Other",
          "Other",
          "Other",
          "Other",
          "Other",
          "Other",
          "Other",
          "Other",
          "Other",
          "Other",
          "Other",
          "Other",
          "Other",
          "Other",
          "Other",
          "Other",
          "Other",
          "Other",
          "Other",
          "Other",
          "Other",
          "Other",
          "Other",
          "Other",
          "Other",
          "Other",
          "Other",
          "Other",
          "Other",
          "Other",
          "Other",
          "Other",
          "Other",
          "Other",
          "Other",
          "Other",
          "Other",
          "Other",
          "Other",
          "Other",
          "Other",
          "Other",
          "Other",
          "Other",
          "Other",
          "Other",
          "Other",
          "Other",
          "Other",
          "Other",
          "Other",
          "Other",
          "Other",
          "Other",
          "Other",
          "Other",
          "Other",
          "Other",
          "Other",
          "Other",
          "Other",
          "Other",
          "Other",
          "Other",
          "Other",
          "Other",
          "Other",
          "Other",
          "Other",
          "Other",
          "Other",
          "Other",
          "Other",
          "Other",
          "Other",
          "Other",
          "Other",
          "Other",
          "Other",
          "Other",
          "Other",
          "Other",
          "Other",
          "Other",
          "Other",
          "Other",
          "Other",
          "Other",
          "Other",
          "Other",
          "Other",
          "Other",
          "Other",
          "Other",
          "Other",
          "Other",
          "Other",
          "Other",
          "Other",
          "Other",
          "Other",
          "Other",
          "Other",
          "Other",
          "Other",
          "Other",
          "Other",
          "Other",
          "Other",
          "Other",
          "Other",
          "Other",
          "Other",
          "Other",
          "Other",
          "Other",
          "Other",
          "Other",
          "Other",
          "Other",
          "Other",
          "Other",
          "Other",
          "Other",
          "Other",
          "Other",
          "Other",
          "Other",
          "Other",
          "Other",
          "Other",
          "Other",
          "Other"
         ],
         "legendgroup": "",
         "name": "",
         "showlegend": true,
         "type": "pie",
         "values": [
          844,
          332,
          329,
          206,
          205,
          188,
          187,
          170,
          160,
          126,
          118,
          107,
          107,
          93,
          84,
          74,
          74,
          70,
          53,
          53,
          52,
          50,
          49,
          49,
          46,
          45,
          45,
          43,
          40,
          40,
          37,
          32,
          31,
          30,
          30,
          29,
          28,
          27,
          26,
          25,
          25,
          25,
          24,
          24,
          21,
          21,
          19,
          19,
          18,
          18,
          18,
          18,
          18,
          17,
          17,
          17,
          16,
          15,
          14,
          14,
          13,
          13,
          13,
          13,
          12,
          12,
          12,
          12,
          11,
          11,
          11,
          11,
          10,
          10,
          10,
          10,
          10,
          10,
          10,
          10,
          9,
          9,
          9,
          9,
          8,
          8,
          8,
          8,
          8,
          8,
          7,
          7,
          7,
          7,
          7,
          7,
          7,
          6,
          6,
          6,
          6,
          6,
          6,
          6,
          6,
          6,
          6,
          6,
          6,
          6,
          5,
          5,
          5,
          5,
          5,
          5,
          5,
          5,
          5,
          5,
          5,
          5,
          5,
          5,
          5,
          5,
          4,
          4,
          4,
          4,
          4,
          4,
          4,
          4,
          4,
          4,
          4,
          4,
          4,
          4,
          4,
          4,
          4,
          4,
          4,
          4,
          3,
          3,
          3,
          3,
          3,
          3,
          3,
          3,
          3,
          3,
          3,
          3,
          3,
          3,
          3,
          3,
          3,
          3,
          3,
          3,
          3,
          3,
          3,
          3,
          3,
          3,
          3,
          3,
          3,
          3,
          3,
          3,
          3,
          3,
          2,
          2,
          2,
          2,
          2,
          2,
          2,
          2,
          2,
          2,
          2,
          2,
          2,
          2,
          2,
          2,
          2,
          2,
          2,
          2,
          2,
          2,
          2,
          2,
          2,
          2,
          2,
          2,
          2,
          2,
          2,
          2,
          2,
          2,
          2,
          2,
          2,
          2,
          2,
          2,
          2,
          2,
          2,
          2,
          2,
          2,
          2,
          2,
          2,
          2,
          2,
          2,
          2,
          2,
          1,
          1,
          1,
          1,
          1,
          1,
          1,
          1,
          1,
          1,
          1,
          1,
          1,
          1,
          1,
          1,
          1,
          1,
          1,
          1,
          1,
          1,
          1,
          1,
          1,
          1,
          1,
          1,
          1,
          1,
          1,
          1,
          1,
          1,
          1,
          1,
          1,
          1,
          1,
          1,
          1,
          1,
          1,
          1,
          1,
          1,
          1,
          1,
          1,
          1,
          1,
          1,
          1,
          1,
          1,
          1,
          1,
          1,
          1,
          1,
          1,
          1,
          1,
          1,
          1,
          1,
          1,
          1,
          1,
          1,
          1,
          1,
          1,
          1,
          1,
          1,
          1,
          1,
          1,
          1,
          1,
          1,
          1,
          1,
          1,
          1,
          1,
          1,
          1,
          1,
          1,
          1,
          1,
          1,
          1,
          1,
          1,
          1,
          1,
          1,
          1,
          1,
          1,
          1,
          1,
          1,
          1,
          1,
          1,
          1,
          1,
          1,
          1,
          1,
          1,
          1,
          1,
          1,
          1,
          1,
          1,
          1,
          1,
          1,
          1,
          1,
          1,
          1,
          1,
          1,
          1,
          1,
          1,
          1,
          1,
          1,
          1,
          1,
          1,
          1,
          1,
          1
         ]
        }
       ],
       "layout": {
        "legend": {
         "tracegroupgap": 0
        },
        "template": {
         "data": {
          "bar": [
           {
            "error_x": {
             "color": "#2a3f5f"
            },
            "error_y": {
             "color": "#2a3f5f"
            },
            "marker": {
             "line": {
              "color": "#E5ECF6",
              "width": 0.5
             },
             "pattern": {
              "fillmode": "overlay",
              "size": 10,
              "solidity": 0.2
             }
            },
            "type": "bar"
           }
          ],
          "barpolar": [
           {
            "marker": {
             "line": {
              "color": "#E5ECF6",
              "width": 0.5
             },
             "pattern": {
              "fillmode": "overlay",
              "size": 10,
              "solidity": 0.2
             }
            },
            "type": "barpolar"
           }
          ],
          "carpet": [
           {
            "aaxis": {
             "endlinecolor": "#2a3f5f",
             "gridcolor": "white",
             "linecolor": "white",
             "minorgridcolor": "white",
             "startlinecolor": "#2a3f5f"
            },
            "baxis": {
             "endlinecolor": "#2a3f5f",
             "gridcolor": "white",
             "linecolor": "white",
             "minorgridcolor": "white",
             "startlinecolor": "#2a3f5f"
            },
            "type": "carpet"
           }
          ],
          "choropleth": [
           {
            "colorbar": {
             "outlinewidth": 0,
             "ticks": ""
            },
            "type": "choropleth"
           }
          ],
          "contour": [
           {
            "colorbar": {
             "outlinewidth": 0,
             "ticks": ""
            },
            "colorscale": [
             [
              0,
              "#0d0887"
             ],
             [
              0.1111111111111111,
              "#46039f"
             ],
             [
              0.2222222222222222,
              "#7201a8"
             ],
             [
              0.3333333333333333,
              "#9c179e"
             ],
             [
              0.4444444444444444,
              "#bd3786"
             ],
             [
              0.5555555555555556,
              "#d8576b"
             ],
             [
              0.6666666666666666,
              "#ed7953"
             ],
             [
              0.7777777777777778,
              "#fb9f3a"
             ],
             [
              0.8888888888888888,
              "#fdca26"
             ],
             [
              1,
              "#f0f921"
             ]
            ],
            "type": "contour"
           }
          ],
          "contourcarpet": [
           {
            "colorbar": {
             "outlinewidth": 0,
             "ticks": ""
            },
            "type": "contourcarpet"
           }
          ],
          "heatmap": [
           {
            "colorbar": {
             "outlinewidth": 0,
             "ticks": ""
            },
            "colorscale": [
             [
              0,
              "#0d0887"
             ],
             [
              0.1111111111111111,
              "#46039f"
             ],
             [
              0.2222222222222222,
              "#7201a8"
             ],
             [
              0.3333333333333333,
              "#9c179e"
             ],
             [
              0.4444444444444444,
              "#bd3786"
             ],
             [
              0.5555555555555556,
              "#d8576b"
             ],
             [
              0.6666666666666666,
              "#ed7953"
             ],
             [
              0.7777777777777778,
              "#fb9f3a"
             ],
             [
              0.8888888888888888,
              "#fdca26"
             ],
             [
              1,
              "#f0f921"
             ]
            ],
            "type": "heatmap"
           }
          ],
          "heatmapgl": [
           {
            "colorbar": {
             "outlinewidth": 0,
             "ticks": ""
            },
            "colorscale": [
             [
              0,
              "#0d0887"
             ],
             [
              0.1111111111111111,
              "#46039f"
             ],
             [
              0.2222222222222222,
              "#7201a8"
             ],
             [
              0.3333333333333333,
              "#9c179e"
             ],
             [
              0.4444444444444444,
              "#bd3786"
             ],
             [
              0.5555555555555556,
              "#d8576b"
             ],
             [
              0.6666666666666666,
              "#ed7953"
             ],
             [
              0.7777777777777778,
              "#fb9f3a"
             ],
             [
              0.8888888888888888,
              "#fdca26"
             ],
             [
              1,
              "#f0f921"
             ]
            ],
            "type": "heatmapgl"
           }
          ],
          "histogram": [
           {
            "marker": {
             "pattern": {
              "fillmode": "overlay",
              "size": 10,
              "solidity": 0.2
             }
            },
            "type": "histogram"
           }
          ],
          "histogram2d": [
           {
            "colorbar": {
             "outlinewidth": 0,
             "ticks": ""
            },
            "colorscale": [
             [
              0,
              "#0d0887"
             ],
             [
              0.1111111111111111,
              "#46039f"
             ],
             [
              0.2222222222222222,
              "#7201a8"
             ],
             [
              0.3333333333333333,
              "#9c179e"
             ],
             [
              0.4444444444444444,
              "#bd3786"
             ],
             [
              0.5555555555555556,
              "#d8576b"
             ],
             [
              0.6666666666666666,
              "#ed7953"
             ],
             [
              0.7777777777777778,
              "#fb9f3a"
             ],
             [
              0.8888888888888888,
              "#fdca26"
             ],
             [
              1,
              "#f0f921"
             ]
            ],
            "type": "histogram2d"
           }
          ],
          "histogram2dcontour": [
           {
            "colorbar": {
             "outlinewidth": 0,
             "ticks": ""
            },
            "colorscale": [
             [
              0,
              "#0d0887"
             ],
             [
              0.1111111111111111,
              "#46039f"
             ],
             [
              0.2222222222222222,
              "#7201a8"
             ],
             [
              0.3333333333333333,
              "#9c179e"
             ],
             [
              0.4444444444444444,
              "#bd3786"
             ],
             [
              0.5555555555555556,
              "#d8576b"
             ],
             [
              0.6666666666666666,
              "#ed7953"
             ],
             [
              0.7777777777777778,
              "#fb9f3a"
             ],
             [
              0.8888888888888888,
              "#fdca26"
             ],
             [
              1,
              "#f0f921"
             ]
            ],
            "type": "histogram2dcontour"
           }
          ],
          "mesh3d": [
           {
            "colorbar": {
             "outlinewidth": 0,
             "ticks": ""
            },
            "type": "mesh3d"
           }
          ],
          "parcoords": [
           {
            "line": {
             "colorbar": {
              "outlinewidth": 0,
              "ticks": ""
             }
            },
            "type": "parcoords"
           }
          ],
          "pie": [
           {
            "automargin": true,
            "type": "pie"
           }
          ],
          "scatter": [
           {
            "fillpattern": {
             "fillmode": "overlay",
             "size": 10,
             "solidity": 0.2
            },
            "type": "scatter"
           }
          ],
          "scatter3d": [
           {
            "line": {
             "colorbar": {
              "outlinewidth": 0,
              "ticks": ""
             }
            },
            "marker": {
             "colorbar": {
              "outlinewidth": 0,
              "ticks": ""
             }
            },
            "type": "scatter3d"
           }
          ],
          "scattercarpet": [
           {
            "marker": {
             "colorbar": {
              "outlinewidth": 0,
              "ticks": ""
             }
            },
            "type": "scattercarpet"
           }
          ],
          "scattergeo": [
           {
            "marker": {
             "colorbar": {
              "outlinewidth": 0,
              "ticks": ""
             }
            },
            "type": "scattergeo"
           }
          ],
          "scattergl": [
           {
            "marker": {
             "colorbar": {
              "outlinewidth": 0,
              "ticks": ""
             }
            },
            "type": "scattergl"
           }
          ],
          "scattermapbox": [
           {
            "marker": {
             "colorbar": {
              "outlinewidth": 0,
              "ticks": ""
             }
            },
            "type": "scattermapbox"
           }
          ],
          "scatterpolar": [
           {
            "marker": {
             "colorbar": {
              "outlinewidth": 0,
              "ticks": ""
             }
            },
            "type": "scatterpolar"
           }
          ],
          "scatterpolargl": [
           {
            "marker": {
             "colorbar": {
              "outlinewidth": 0,
              "ticks": ""
             }
            },
            "type": "scatterpolargl"
           }
          ],
          "scatterternary": [
           {
            "marker": {
             "colorbar": {
              "outlinewidth": 0,
              "ticks": ""
             }
            },
            "type": "scatterternary"
           }
          ],
          "surface": [
           {
            "colorbar": {
             "outlinewidth": 0,
             "ticks": ""
            },
            "colorscale": [
             [
              0,
              "#0d0887"
             ],
             [
              0.1111111111111111,
              "#46039f"
             ],
             [
              0.2222222222222222,
              "#7201a8"
             ],
             [
              0.3333333333333333,
              "#9c179e"
             ],
             [
              0.4444444444444444,
              "#bd3786"
             ],
             [
              0.5555555555555556,
              "#d8576b"
             ],
             [
              0.6666666666666666,
              "#ed7953"
             ],
             [
              0.7777777777777778,
              "#fb9f3a"
             ],
             [
              0.8888888888888888,
              "#fdca26"
             ],
             [
              1,
              "#f0f921"
             ]
            ],
            "type": "surface"
           }
          ],
          "table": [
           {
            "cells": {
             "fill": {
              "color": "#EBF0F8"
             },
             "line": {
              "color": "white"
             }
            },
            "header": {
             "fill": {
              "color": "#C8D4E3"
             },
             "line": {
              "color": "white"
             }
            },
            "type": "table"
           }
          ]
         },
         "layout": {
          "annotationdefaults": {
           "arrowcolor": "#2a3f5f",
           "arrowhead": 0,
           "arrowwidth": 1
          },
          "autotypenumbers": "strict",
          "coloraxis": {
           "colorbar": {
            "outlinewidth": 0,
            "ticks": ""
           }
          },
          "colorscale": {
           "diverging": [
            [
             0,
             "#8e0152"
            ],
            [
             0.1,
             "#c51b7d"
            ],
            [
             0.2,
             "#de77ae"
            ],
            [
             0.3,
             "#f1b6da"
            ],
            [
             0.4,
             "#fde0ef"
            ],
            [
             0.5,
             "#f7f7f7"
            ],
            [
             0.6,
             "#e6f5d0"
            ],
            [
             0.7,
             "#b8e186"
            ],
            [
             0.8,
             "#7fbc41"
            ],
            [
             0.9,
             "#4d9221"
            ],
            [
             1,
             "#276419"
            ]
           ],
           "sequential": [
            [
             0,
             "#0d0887"
            ],
            [
             0.1111111111111111,
             "#46039f"
            ],
            [
             0.2222222222222222,
             "#7201a8"
            ],
            [
             0.3333333333333333,
             "#9c179e"
            ],
            [
             0.4444444444444444,
             "#bd3786"
            ],
            [
             0.5555555555555556,
             "#d8576b"
            ],
            [
             0.6666666666666666,
             "#ed7953"
            ],
            [
             0.7777777777777778,
             "#fb9f3a"
            ],
            [
             0.8888888888888888,
             "#fdca26"
            ],
            [
             1,
             "#f0f921"
            ]
           ],
           "sequentialminus": [
            [
             0,
             "#0d0887"
            ],
            [
             0.1111111111111111,
             "#46039f"
            ],
            [
             0.2222222222222222,
             "#7201a8"
            ],
            [
             0.3333333333333333,
             "#9c179e"
            ],
            [
             0.4444444444444444,
             "#bd3786"
            ],
            [
             0.5555555555555556,
             "#d8576b"
            ],
            [
             0.6666666666666666,
             "#ed7953"
            ],
            [
             0.7777777777777778,
             "#fb9f3a"
            ],
            [
             0.8888888888888888,
             "#fdca26"
            ],
            [
             1,
             "#f0f921"
            ]
           ]
          },
          "colorway": [
           "#636efa",
           "#EF553B",
           "#00cc96",
           "#ab63fa",
           "#FFA15A",
           "#19d3f3",
           "#FF6692",
           "#B6E880",
           "#FF97FF",
           "#FECB52"
          ],
          "font": {
           "color": "#2a3f5f"
          },
          "geo": {
           "bgcolor": "white",
           "lakecolor": "white",
           "landcolor": "#E5ECF6",
           "showlakes": true,
           "showland": true,
           "subunitcolor": "white"
          },
          "hoverlabel": {
           "align": "left"
          },
          "hovermode": "closest",
          "mapbox": {
           "style": "light"
          },
          "paper_bgcolor": "white",
          "plot_bgcolor": "#E5ECF6",
          "polar": {
           "angularaxis": {
            "gridcolor": "white",
            "linecolor": "white",
            "ticks": ""
           },
           "bgcolor": "#E5ECF6",
           "radialaxis": {
            "gridcolor": "white",
            "linecolor": "white",
            "ticks": ""
           }
          },
          "scene": {
           "xaxis": {
            "backgroundcolor": "#E5ECF6",
            "gridcolor": "white",
            "gridwidth": 2,
            "linecolor": "white",
            "showbackground": true,
            "ticks": "",
            "zerolinecolor": "white"
           },
           "yaxis": {
            "backgroundcolor": "#E5ECF6",
            "gridcolor": "white",
            "gridwidth": 2,
            "linecolor": "white",
            "showbackground": true,
            "ticks": "",
            "zerolinecolor": "white"
           },
           "zaxis": {
            "backgroundcolor": "#E5ECF6",
            "gridcolor": "white",
            "gridwidth": 2,
            "linecolor": "white",
            "showbackground": true,
            "ticks": "",
            "zerolinecolor": "white"
           }
          },
          "shapedefaults": {
           "line": {
            "color": "#2a3f5f"
           }
          },
          "ternary": {
           "aaxis": {
            "gridcolor": "white",
            "linecolor": "white",
            "ticks": ""
           },
           "baxis": {
            "gridcolor": "white",
            "linecolor": "white",
            "ticks": ""
           },
           "bgcolor": "#E5ECF6",
           "caxis": {
            "gridcolor": "white",
            "linecolor": "white",
            "ticks": ""
           }
          },
          "title": {
           "x": 0.05
          },
          "xaxis": {
           "automargin": true,
           "gridcolor": "white",
           "linecolor": "white",
           "ticks": "",
           "title": {
            "standoff": 15
           },
           "zerolinecolor": "white",
           "zerolinewidth": 2
          },
          "yaxis": {
           "automargin": true,
           "gridcolor": "white",
           "linecolor": "white",
           "ticks": "",
           "title": {
            "standoff": 15
           },
           "zerolinecolor": "white",
           "zerolinewidth": 2
          }
         }
        },
        "title": {
         "text": "some unique Genres of movies in Indian Cinema"
        }
       }
      }
     },
     "metadata": {},
     "output_type": "display_data"
    }
   ],
   "source": [
    "genrePie.loc[genrePie['Count'] <70, 'Genre'] = 'Other'\n",
    "ax = px.pie(genrePie, values='Count', names='Genre', title='some unique Genres of movies in Indian Cinema')\n",
    "ax.show()"
   ]
  },
  {
   "cell_type": "code",
   "execution_count": 31,
   "id": "2a1ffcda",
   "metadata": {
    "execution": {
     "iopub.execute_input": "2023-08-28T16:44:54.375886Z",
     "iopub.status.busy": "2023-08-28T16:44:54.375494Z",
     "iopub.status.idle": "2023-08-28T16:44:54.665784Z",
     "shell.execute_reply": "2023-08-28T16:44:54.664374Z"
    },
    "papermill": {
     "duration": 0.311905,
     "end_time": "2023-08-28T16:44:54.668049",
     "exception": false,
     "start_time": "2023-08-28T16:44:54.356144",
     "status": "completed"
    },
    "tags": []
   },
   "outputs": [
    {
     "data": {
      "image/png": "[encoded data removed]",
      "text/plain": [
       "<Figure size 640x480 with 1 Axes>"
      ]
     },
     "metadata": {},
     "output_type": "display_data"
    }
   ],
   "source": [
    "ax = sb.histplot(data = df, x = \"Rating\", bins = 50, kde = True)\n",
    "ax.set_xlabel('Rating')\n",
    "ax.set_ylabel('Frequency')\n",
    "ax.set_title('Distribution of Movie Ratings')\n",
    "mpl.show()"
   ]
  },
  {
   "cell_type": "code",
   "execution_count": 32,
   "id": "a420d7da",
   "metadata": {
    "execution": {
     "iopub.execute_input": "2023-08-28T16:44:54.706326Z",
     "iopub.status.busy": "2023-08-28T16:44:54.705773Z",
     "iopub.status.idle": "2023-08-28T16:44:54.850088Z",
     "shell.execute_reply": "2023-08-28T16:44:54.849186Z"
    },
    "papermill": {
     "duration": 0.1657,
     "end_time": "2023-08-28T16:44:54.852084",
     "exception": false,
     "start_time": "2023-08-28T16:44:54.686384",
     "status": "completed"
    },
    "tags": []
   },
   "outputs": [
    {
     "data": {
      "image/png": "[encoded data removed]",
      "text/plain": [
       "<Figure size 640x480 with 1 Axes>"
      ]
     },
     "metadata": {},
     "output_type": "display_data"
    }
   ],
   "source": [
    "ax = sb.boxplot(data=df, y='Rating')\n",
    "ax.set_ylabel('Rating')\n",
    "ax.set_title('Box Plot of Movie Ratings')\n",
    "mpl.show()"
   ]
  },
  {
   "cell_type": "code",
   "execution_count": 33,
   "id": "b258fb97",
   "metadata": {
    "execution": {
     "iopub.execute_input": "2023-08-28T16:44:54.891591Z",
     "iopub.status.busy": "2023-08-28T16:44:54.891223Z",
     "iopub.status.idle": "2023-08-28T16:44:54.909778Z",
     "shell.execute_reply": "2023-08-28T16:44:54.908895Z"
    },
    "papermill": {
     "duration": 0.040623,
     "end_time": "2023-08-28T16:44:54.911576",
     "exception": false,
     "start_time": "2023-08-28T16:44:54.870953",
     "status": "completed"
    },
    "tags": []
   },
   "outputs": [
    {
     "data": {
      "text/html": [
       "<div>\n",
       "<style scoped>\n",
       "    .dataframe tbody tr th:only-of-type {\n",
       "        vertical-align: middle;\n",
       "    }\n",
       "\n",
       "    .dataframe tbody tr th {\n",
       "        vertical-align: top;\n",
       "    }\n",
       "\n",
       "    .dataframe thead th {\n",
       "        text-align: right;\n",
       "    }\n",
       "</style>\n",
       "<table border=\"1\" class=\"dataframe\">\n",
       "  <thead>\n",
       "    <tr style=\"text-align: right;\">\n",
       "      <th></th>\n",
       "      <th>Name</th>\n",
       "      <th>Year</th>\n",
       "      <th>Duration</th>\n",
       "      <th>Genre</th>\n",
       "      <th>Rating</th>\n",
       "      <th>Votes</th>\n",
       "      <th>Director</th>\n",
       "      <th>Actor 1</th>\n",
       "      <th>Actor 2</th>\n",
       "      <th>Actor 3</th>\n",
       "    </tr>\n",
       "  </thead>\n",
       "  <tbody>\n",
       "    <tr>\n",
       "      <th>1</th>\n",
       "      <td>#Gadhvi (He thought he was Gandhi)</td>\n",
       "      <td>-2019.0</td>\n",
       "      <td>109</td>\n",
       "      <td>Drama</td>\n",
       "      <td>7.0</td>\n",
       "      <td>8</td>\n",
       "      <td>Gaurav Bakshi</td>\n",
       "      <td>Rasika Dugal</td>\n",
       "      <td>Vivek Ghamande</td>\n",
       "      <td>Arvind Jangid</td>\n",
       "    </tr>\n",
       "    <tr>\n",
       "      <th>3</th>\n",
       "      <td>#Yaaram</td>\n",
       "      <td>-2019.0</td>\n",
       "      <td>110</td>\n",
       "      <td>Comedy, Romance</td>\n",
       "      <td>4.4</td>\n",
       "      <td>35</td>\n",
       "      <td>Ovais Khan</td>\n",
       "      <td>Prateik</td>\n",
       "      <td>Ishita Raj</td>\n",
       "      <td>Siddhant Kapoor</td>\n",
       "    </tr>\n",
       "    <tr>\n",
       "      <th>5</th>\n",
       "      <td>...Aur Pyaar Ho Gaya</td>\n",
       "      <td>-1997.0</td>\n",
       "      <td>147</td>\n",
       "      <td>Comedy, Drama, Musical</td>\n",
       "      <td>4.7</td>\n",
       "      <td>827</td>\n",
       "      <td>Rahul Rawail</td>\n",
       "      <td>Bobby Deol</td>\n",
       "      <td>Aishwarya Rai Bachchan</td>\n",
       "      <td>Shammi Kapoor</td>\n",
       "    </tr>\n",
       "    <tr>\n",
       "      <th>6</th>\n",
       "      <td>...Yahaan</td>\n",
       "      <td>-2005.0</td>\n",
       "      <td>142</td>\n",
       "      <td>Drama, Romance, War</td>\n",
       "      <td>7.4</td>\n",
       "      <td>1086</td>\n",
       "      <td>Shoojit Sircar</td>\n",
       "      <td>Jimmy Sheirgill</td>\n",
       "      <td>Minissha Lamba</td>\n",
       "      <td>Yashpal Sharma</td>\n",
       "    </tr>\n",
       "    <tr>\n",
       "      <th>8</th>\n",
       "      <td>?: A Question Mark</td>\n",
       "      <td>-2012.0</td>\n",
       "      <td>82</td>\n",
       "      <td>Horror, Mystery, Thriller</td>\n",
       "      <td>5.6</td>\n",
       "      <td>326</td>\n",
       "      <td>Allyson Patel</td>\n",
       "      <td>Yash Dave</td>\n",
       "      <td>Muntazir Ahmad</td>\n",
       "      <td>Kiran Bhatia</td>\n",
       "    </tr>\n",
       "    <tr>\n",
       "      <th>9</th>\n",
       "      <td>@Andheri</td>\n",
       "      <td>-2014.0</td>\n",
       "      <td>116</td>\n",
       "      <td>Action, Crime, Thriller</td>\n",
       "      <td>4.0</td>\n",
       "      <td>11</td>\n",
       "      <td>Biju Bhaskar Nair</td>\n",
       "      <td>Augustine</td>\n",
       "      <td>Fathima Babu</td>\n",
       "      <td>Byon</td>\n",
       "    </tr>\n",
       "    <tr>\n",
       "      <th>10</th>\n",
       "      <td>1:1.6 An Ode to Lost Love</td>\n",
       "      <td>-2004.0</td>\n",
       "      <td>96</td>\n",
       "      <td>Drama</td>\n",
       "      <td>6.2</td>\n",
       "      <td>17</td>\n",
       "      <td>Madhu Ambat</td>\n",
       "      <td>Rati Agnihotri</td>\n",
       "      <td>Gulshan Grover</td>\n",
       "      <td>Atul Kulkarni</td>\n",
       "    </tr>\n",
       "    <tr>\n",
       "      <th>11</th>\n",
       "      <td>1:13:7 Ek Tera Saath</td>\n",
       "      <td>-2016.0</td>\n",
       "      <td>120</td>\n",
       "      <td>Horror</td>\n",
       "      <td>5.9</td>\n",
       "      <td>59</td>\n",
       "      <td>Arshad Siddiqui</td>\n",
       "      <td>Pankaj Berry</td>\n",
       "      <td>Anubhav Dhir</td>\n",
       "      <td>Hritu Dudani</td>\n",
       "    </tr>\n",
       "    <tr>\n",
       "      <th>12</th>\n",
       "      <td>100 Days</td>\n",
       "      <td>-1991.0</td>\n",
       "      <td>161</td>\n",
       "      <td>Horror, Romance, Thriller</td>\n",
       "      <td>6.5</td>\n",
       "      <td>983</td>\n",
       "      <td>Partho Ghosh</td>\n",
       "      <td>Jackie Shroff</td>\n",
       "      <td>Madhuri Dixit</td>\n",
       "      <td>Javed Jaffrey</td>\n",
       "    </tr>\n",
       "  </tbody>\n",
       "</table>\n",
       "</div>"
      ],
      "text/plain": [
       "                                  Name    Year  Duration  \\\n",
       "1   #Gadhvi (He thought he was Gandhi) -2019.0       109   \n",
       "3                              #Yaaram -2019.0       110   \n",
       "5                 ...Aur Pyaar Ho Gaya -1997.0       147   \n",
       "6                            ...Yahaan -2005.0       142   \n",
       "8                   ?: A Question Mark -2012.0        82   \n",
       "9                             @Andheri -2014.0       116   \n",
       "10           1:1.6 An Ode to Lost Love -2004.0        96   \n",
       "11                1:13:7 Ek Tera Saath -2016.0       120   \n",
       "12                            100 Days -1991.0       161   \n",
       "\n",
       "                        Genre  Rating  Votes           Director  \\\n",
       "1                       Drama     7.0      8      Gaurav Bakshi   \n",
       "3             Comedy, Romance     4.4     35         Ovais Khan   \n",
       "5      Comedy, Drama, Musical     4.7    827       Rahul Rawail   \n",
       "6         Drama, Romance, War     7.4   1086     Shoojit Sircar   \n",
       "8   Horror, Mystery, Thriller     5.6    326      Allyson Patel   \n",
       "9     Action, Crime, Thriller     4.0     11  Biju Bhaskar Nair   \n",
       "10                      Drama     6.2     17        Madhu Ambat   \n",
       "11                     Horror     5.9     59    Arshad Siddiqui   \n",
       "12  Horror, Romance, Thriller     6.5    983       Partho Ghosh   \n",
       "\n",
       "            Actor 1                 Actor 2          Actor 3  \n",
       "1      Rasika Dugal          Vivek Ghamande    Arvind Jangid  \n",
       "3           Prateik              Ishita Raj  Siddhant Kapoor  \n",
       "5        Bobby Deol  Aishwarya Rai Bachchan    Shammi Kapoor  \n",
       "6   Jimmy Sheirgill          Minissha Lamba   Yashpal Sharma  \n",
       "8         Yash Dave          Muntazir Ahmad     Kiran Bhatia  \n",
       "9         Augustine            Fathima Babu             Byon  \n",
       "10   Rati Agnihotri          Gulshan Grover    Atul Kulkarni  \n",
       "11     Pankaj Berry            Anubhav Dhir     Hritu Dudani  \n",
       "12    Jackie Shroff           Madhuri Dixit    Javed Jaffrey  "
      ]
     },
     "execution_count": 33,
     "metadata": {},
     "output_type": "execute_result"
    }
   ],
   "source": [
    "Q1 = df['Rating'].quantile(0.28)\n",
    "Q3 = df['Rating'].quantile(0.78)\n",
    "IQR = Q3 - Q1\n",
    "lower_bound = Q1 - 1.5 * IQR\n",
    "upper_bound = Q3 + 1.5 * IQR\n",
    "df = df[(df['Rating'] >= lower_bound) & (df['Rating'] <= upper_bound)]\n",
    "df.head(9)"
   ]
  },
  {
   "cell_type": "code",
   "execution_count": 34,
   "id": "5182db6a",
   "metadata": {
    "execution": {
     "iopub.execute_input": "2023-08-28T16:44:54.953252Z",
     "iopub.status.busy": "2023-08-28T16:44:54.951974Z",
     "iopub.status.idle": "2023-08-28T16:44:55.208687Z",
     "shell.execute_reply": "2023-08-28T16:44:55.207355Z"
    },
    "papermill": {
     "duration": 0.279902,
     "end_time": "2023-08-28T16:44:55.210696",
     "exception": false,
     "start_time": "2023-08-28T16:44:54.930794",
     "status": "completed"
    },
    "tags": []
   },
   "outputs": [
    {
     "data": {
      "image/png": "[encoded data removed]",
      "text/plain": [
       "<Figure size 1300x900 with 1 Axes>"
      ]
     },
     "metadata": {},
     "output_type": "display_data"
    }
   ],
   "source": [
    "rating_votes = df.groupby('Rating')['Votes'].sum().reset_index()\n",
    "mpl.figure(figsize=(13, 9))\n",
    "ax_line_seaborn = sb.lineplot(data=rating_votes, x='Rating', y='Votes', marker='o')\n",
    "ax_line_seaborn.set_xlabel('Rating')\n",
    "ax_line_seaborn.set_ylabel('Total Votes')\n",
    "ax_line_seaborn.set_title('Total Votes per Rating')\n",
    "mpl.show()"
   ]
  },
  {
   "cell_type": "code",
   "execution_count": 35,
   "id": "1037a58c",
   "metadata": {
    "execution": {
     "iopub.execute_input": "2023-08-28T16:44:55.251526Z",
     "iopub.status.busy": "2023-08-28T16:44:55.251108Z",
     "iopub.status.idle": "2023-08-28T16:44:55.597012Z",
     "shell.execute_reply": "2023-08-28T16:44:55.596093Z"
    },
    "papermill": {
     "duration": 0.369044,
     "end_time": "2023-08-28T16:44:55.598940",
     "exception": false,
     "start_time": "2023-08-28T16:44:55.229896",
     "status": "completed"
    },
    "tags": []
   },
   "outputs": [
    {
     "data": {
      "image/png": "[encoded data removed]",
      "text/plain": [
       "<Figure size 1400x700 with 1 Axes>"
      ]
     },
     "metadata": {},
     "output_type": "display_data"
    }
   ],
   "source": [
    "mpl.figure(figsize=(14, 7))\n",
    "ax = sb.barplot(x=directors.head(30).index, y=directors.head(30).values, palette='viridis')\n",
    "ax.set_xlabel('Directors')\n",
    "ax.set_ylabel('Frequency of Movies')\n",
    "ax.set_title('Top 10 Directors by Frequency of Movies')\n",
    "ax.set_xticklabels(ax.get_xticklabels(), rotation=99)\n",
    "mpl.show()"
   ]
  },
  {
   "cell_type": "code",
   "execution_count": 36,
   "id": "95b929b1",
   "metadata": {
    "execution": {
     "iopub.execute_input": "2023-08-28T16:44:55.642373Z",
     "iopub.status.busy": "2023-08-28T16:44:55.641824Z",
     "iopub.status.idle": "2023-08-28T16:44:55.981307Z",
     "shell.execute_reply": "2023-08-28T16:44:55.980310Z"
    },
    "papermill": {
     "duration": 0.364279,
     "end_time": "2023-08-28T16:44:55.983117",
     "exception": false,
     "start_time": "2023-08-28T16:44:55.618838",
     "status": "completed"
    },
    "tags": []
   },
   "outputs": [
    {
     "data": {
      "image/png": "[encoded data removed]",
      "text/plain": [
       "<Figure size 1500x900 with 1 Axes>"
      ]
     },
     "metadata": {},
     "output_type": "display_data"
    }
   ],
   "source": [
    "mpl.figure(figsize=(15, 9))\n",
    "ax = sb.barplot(x=actors.head(30).index, y=actors.head(30).values, palette='viridis')\n",
    "ax.set_xlabel('Actors')\n",
    "ax.set_ylabel('Total Number of Movies')\n",
    "ax.set_title('Top 30 Actors with Total Number of Movies')\n",
    "ax.set_xticklabels(ax.get_xticklabels(), rotation=99)\n",
    "mpl.show()"
   ]
  },
  {
   "cell_type": "code",
   "execution_count": 37,
   "id": "49066189",
   "metadata": {
    "execution": {
     "iopub.execute_input": "2023-08-28T16:44:56.025043Z",
     "iopub.status.busy": "2023-08-28T16:44:56.024696Z",
     "iopub.status.idle": "2023-08-28T16:44:56.055752Z",
     "shell.execute_reply": "2023-08-28T16:44:56.054530Z"
    },
    "papermill": {
     "duration": 0.054686,
     "end_time": "2023-08-28T16:44:56.057964",
     "exception": false,
     "start_time": "2023-08-28T16:44:56.003278",
     "status": "completed"
    },
    "tags": []
   },
   "outputs": [
    {
     "data": {
      "text/html": [
       "<div>\n",
       "<style scoped>\n",
       "    .dataframe tbody tr th:only-of-type {\n",
       "        vertical-align: middle;\n",
       "    }\n",
       "\n",
       "    .dataframe tbody tr th {\n",
       "        vertical-align: top;\n",
       "    }\n",
       "\n",
       "    .dataframe thead th {\n",
       "        text-align: right;\n",
       "    }\n",
       "</style>\n",
       "<table border=\"1\" class=\"dataframe\">\n",
       "  <thead>\n",
       "    <tr style=\"text-align: right;\">\n",
       "      <th></th>\n",
       "      <th>Name</th>\n",
       "      <th>Year</th>\n",
       "      <th>Duration</th>\n",
       "      <th>Genre</th>\n",
       "      <th>Rating</th>\n",
       "      <th>Votes</th>\n",
       "      <th>Director</th>\n",
       "      <th>Actor 1</th>\n",
       "      <th>Actor 2</th>\n",
       "      <th>Actor 3</th>\n",
       "      <th>Actor</th>\n",
       "      <th>Directors</th>\n",
       "      <th>Genres</th>\n",
       "      <th>Actors</th>\n",
       "    </tr>\n",
       "  </thead>\n",
       "  <tbody>\n",
       "    <tr>\n",
       "      <th>1</th>\n",
       "      <td>#Gadhvi (He thought he was Gandhi)</td>\n",
       "      <td>-2019.0</td>\n",
       "      <td>109</td>\n",
       "      <td>Drama</td>\n",
       "      <td>7.0</td>\n",
       "      <td>8</td>\n",
       "      <td>Gaurav Bakshi</td>\n",
       "      <td>Rasika Dugal</td>\n",
       "      <td>Vivek Ghamande</td>\n",
       "      <td>Arvind Jangid</td>\n",
       "      <td>Rasika Dugal, Vivek Ghamande, Arvind Jangid</td>\n",
       "      <td>613</td>\n",
       "      <td>224</td>\n",
       "      <td>3793</td>\n",
       "    </tr>\n",
       "    <tr>\n",
       "      <th>3</th>\n",
       "      <td>#Yaaram</td>\n",
       "      <td>-2019.0</td>\n",
       "      <td>110</td>\n",
       "      <td>Comedy, Romance</td>\n",
       "      <td>4.4</td>\n",
       "      <td>35</td>\n",
       "      <td>Ovais Khan</td>\n",
       "      <td>Prateik</td>\n",
       "      <td>Ishita Raj</td>\n",
       "      <td>Siddhant Kapoor</td>\n",
       "      <td>Prateik, Ishita Raj, Siddhant Kapoor</td>\n",
       "      <td>1310</td>\n",
       "      <td>182</td>\n",
       "      <td>3268</td>\n",
       "    </tr>\n",
       "    <tr>\n",
       "      <th>5</th>\n",
       "      <td>...Aur Pyaar Ho Gaya</td>\n",
       "      <td>-1997.0</td>\n",
       "      <td>147</td>\n",
       "      <td>Comedy, Drama, Musical</td>\n",
       "      <td>4.7</td>\n",
       "      <td>827</td>\n",
       "      <td>Rahul Rawail</td>\n",
       "      <td>Bobby Deol</td>\n",
       "      <td>Aishwarya Rai Bachchan</td>\n",
       "      <td>Shammi Kapoor</td>\n",
       "      <td>Bobby Deol, Aishwarya Rai Bachchan, Shammi Kapoor</td>\n",
       "      <td>1498</td>\n",
       "      <td>155</td>\n",
       "      <td>1092</td>\n",
       "    </tr>\n",
       "    <tr>\n",
       "      <th>6</th>\n",
       "      <td>...Yahaan</td>\n",
       "      <td>-2005.0</td>\n",
       "      <td>142</td>\n",
       "      <td>Drama, Romance, War</td>\n",
       "      <td>7.4</td>\n",
       "      <td>1086</td>\n",
       "      <td>Shoojit Sircar</td>\n",
       "      <td>Jimmy Sheirgill</td>\n",
       "      <td>Minissha Lamba</td>\n",
       "      <td>Yashpal Sharma</td>\n",
       "      <td>Jimmy Sheirgill, Minissha Lamba, Yashpal Sharma</td>\n",
       "      <td>1999</td>\n",
       "      <td>283</td>\n",
       "      <td>2041</td>\n",
       "    </tr>\n",
       "    <tr>\n",
       "      <th>8</th>\n",
       "      <td>?: A Question Mark</td>\n",
       "      <td>-2012.0</td>\n",
       "      <td>82</td>\n",
       "      <td>Horror, Mystery, Thriller</td>\n",
       "      <td>5.6</td>\n",
       "      <td>326</td>\n",
       "      <td>Allyson Patel</td>\n",
       "      <td>Yash Dave</td>\n",
       "      <td>Muntazir Ahmad</td>\n",
       "      <td>Kiran Bhatia</td>\n",
       "      <td>Yash Dave, Muntazir Ahmad, Kiran Bhatia</td>\n",
       "      <td>133</td>\n",
       "      <td>314</td>\n",
       "      <td>5443</td>\n",
       "    </tr>\n",
       "    <tr>\n",
       "      <th>9</th>\n",
       "      <td>@Andheri</td>\n",
       "      <td>-2014.0</td>\n",
       "      <td>116</td>\n",
       "      <td>Action, Crime, Thriller</td>\n",
       "      <td>4.0</td>\n",
       "      <td>11</td>\n",
       "      <td>Biju Bhaskar Nair</td>\n",
       "      <td>Augustine</td>\n",
       "      <td>Fathima Babu</td>\n",
       "      <td>Byon</td>\n",
       "      <td>Augustine, Fathima Babu, Byon</td>\n",
       "      <td>390</td>\n",
       "      <td>37</td>\n",
       "      <td>949</td>\n",
       "    </tr>\n",
       "    <tr>\n",
       "      <th>10</th>\n",
       "      <td>1:1.6 An Ode to Lost Love</td>\n",
       "      <td>-2004.0</td>\n",
       "      <td>96</td>\n",
       "      <td>Drama</td>\n",
       "      <td>6.2</td>\n",
       "      <td>17</td>\n",
       "      <td>Madhu Ambat</td>\n",
       "      <td>Rati Agnihotri</td>\n",
       "      <td>Gulshan Grover</td>\n",
       "      <td>Atul Kulkarni</td>\n",
       "      <td>Rati Agnihotri, Gulshan Grover, Atul Kulkarni</td>\n",
       "      <td>1061</td>\n",
       "      <td>224</td>\n",
       "      <td>3798</td>\n",
       "    </tr>\n",
       "  </tbody>\n",
       "</table>\n",
       "</div>"
      ],
      "text/plain": [
       "                                  Name    Year  Duration  \\\n",
       "1   #Gadhvi (He thought he was Gandhi) -2019.0       109   \n",
       "3                              #Yaaram -2019.0       110   \n",
       "5                 ...Aur Pyaar Ho Gaya -1997.0       147   \n",
       "6                            ...Yahaan -2005.0       142   \n",
       "8                   ?: A Question Mark -2012.0        82   \n",
       "9                             @Andheri -2014.0       116   \n",
       "10           1:1.6 An Ode to Lost Love -2004.0        96   \n",
       "\n",
       "                        Genre  Rating  Votes           Director  \\\n",
       "1                       Drama     7.0      8      Gaurav Bakshi   \n",
       "3             Comedy, Romance     4.4     35         Ovais Khan   \n",
       "5      Comedy, Drama, Musical     4.7    827       Rahul Rawail   \n",
       "6         Drama, Romance, War     7.4   1086     Shoojit Sircar   \n",
       "8   Horror, Mystery, Thriller     5.6    326      Allyson Patel   \n",
       "9     Action, Crime, Thriller     4.0     11  Biju Bhaskar Nair   \n",
       "10                      Drama     6.2     17        Madhu Ambat   \n",
       "\n",
       "            Actor 1                 Actor 2          Actor 3  \\\n",
       "1      Rasika Dugal          Vivek Ghamande    Arvind Jangid   \n",
       "3           Prateik              Ishita Raj  Siddhant Kapoor   \n",
       "5        Bobby Deol  Aishwarya Rai Bachchan    Shammi Kapoor   \n",
       "6   Jimmy Sheirgill          Minissha Lamba   Yashpal Sharma   \n",
       "8         Yash Dave          Muntazir Ahmad     Kiran Bhatia   \n",
       "9         Augustine            Fathima Babu             Byon   \n",
       "10   Rati Agnihotri          Gulshan Grover    Atul Kulkarni   \n",
       "\n",
       "                                                Actor  Directors  Genres  \\\n",
       "1         Rasika Dugal, Vivek Ghamande, Arvind Jangid        613     224   \n",
       "3                Prateik, Ishita Raj, Siddhant Kapoor       1310     182   \n",
       "5   Bobby Deol, Aishwarya Rai Bachchan, Shammi Kapoor       1498     155   \n",
       "6     Jimmy Sheirgill, Minissha Lamba, Yashpal Sharma       1999     283   \n",
       "8             Yash Dave, Muntazir Ahmad, Kiran Bhatia        133     314   \n",
       "9                       Augustine, Fathima Babu, Byon        390      37   \n",
       "10      Rati Agnihotri, Gulshan Grover, Atul Kulkarni       1061     224   \n",
       "\n",
       "    Actors  \n",
       "1     3793  \n",
       "3     3268  \n",
       "5     1092  \n",
       "6     2041  \n",
       "8     5443  \n",
       "9      949  \n",
       "10    3798  "
      ]
     },
     "execution_count": 37,
     "metadata": {},
     "output_type": "execute_result"
    }
   ],
   "source": [
    "df[\"Actor\"] = df['Actor 1'] + ', ' + df['Actor 2'] + ', ' + df['Actor 3'] \n",
    "df[\"Directors\"] = df['Director'].astype('category').cat.codes\n",
    "df[\"Genres\"] = df['Genre'].astype('category').cat.codes\n",
    "df[\"Actors\"] = df['Actor'].astype('category').cat.codes\n",
    "df.head(7)"
   ]
  },
  {
   "cell_type": "code",
   "execution_count": 38,
   "id": "13e8208b",
   "metadata": {
    "execution": {
     "iopub.execute_input": "2023-08-28T16:44:56.101469Z",
     "iopub.status.busy": "2023-08-28T16:44:56.100819Z",
     "iopub.status.idle": "2023-08-28T16:44:56.262208Z",
     "shell.execute_reply": "2023-08-28T16:44:56.260780Z"
    },
    "papermill": {
     "duration": 0.185437,
     "end_time": "2023-08-28T16:44:56.264097",
     "exception": false,
     "start_time": "2023-08-28T16:44:56.078660",
     "status": "completed"
    },
    "tags": []
   },
   "outputs": [
    {
     "data": {
      "image/png": "[encoded data removed]",
      "text/plain": [
       "<Figure size 640x480 with 1 Axes>"
      ]
     },
     "metadata": {},
     "output_type": "display_data"
    }
   ],
   "source": [
    "ax = sb.boxplot(data=df, y='Genres')\n",
    "ax.set_ylabel('Genres')\n",
    "ax.set_title('Plotting Box of Genres')\n",
    "mpl.show()"
   ]
  },
  {
   "cell_type": "code",
   "execution_count": 39,
   "id": "1b097d1f",
   "metadata": {
    "execution": {
     "iopub.execute_input": "2023-08-28T16:44:56.307253Z",
     "iopub.status.busy": "2023-08-28T16:44:56.306471Z",
     "iopub.status.idle": "2023-08-28T16:44:56.328371Z",
     "shell.execute_reply": "2023-08-28T16:44:56.327590Z"
    },
    "papermill": {
     "duration": 0.045946,
     "end_time": "2023-08-28T16:44:56.330453",
     "exception": false,
     "start_time": "2023-08-28T16:44:56.284507",
     "status": "completed"
    },
    "tags": []
   },
   "outputs": [
    {
     "data": {
      "text/html": [
       "<div>\n",
       "<style scoped>\n",
       "    .dataframe tbody tr th:only-of-type {\n",
       "        vertical-align: middle;\n",
       "    }\n",
       "\n",
       "    .dataframe tbody tr th {\n",
       "        vertical-align: top;\n",
       "    }\n",
       "\n",
       "    .dataframe thead th {\n",
       "        text-align: right;\n",
       "    }\n",
       "</style>\n",
       "<table border=\"1\" class=\"dataframe\">\n",
       "  <thead>\n",
       "    <tr style=\"text-align: right;\">\n",
       "      <th></th>\n",
       "      <th>Name</th>\n",
       "      <th>Year</th>\n",
       "      <th>Duration</th>\n",
       "      <th>Genre</th>\n",
       "      <th>Rating</th>\n",
       "      <th>Votes</th>\n",
       "      <th>Director</th>\n",
       "      <th>Actor 1</th>\n",
       "      <th>Actor 2</th>\n",
       "      <th>Actor 3</th>\n",
       "      <th>Actor</th>\n",
       "      <th>Directors</th>\n",
       "      <th>Genres</th>\n",
       "      <th>Actors</th>\n",
       "    </tr>\n",
       "  </thead>\n",
       "  <tbody>\n",
       "    <tr>\n",
       "      <th>1</th>\n",
       "      <td>#Gadhvi (He thought he was Gandhi)</td>\n",
       "      <td>-2019.0</td>\n",
       "      <td>109</td>\n",
       "      <td>Drama</td>\n",
       "      <td>7.0</td>\n",
       "      <td>8</td>\n",
       "      <td>Gaurav Bakshi</td>\n",
       "      <td>Rasika Dugal</td>\n",
       "      <td>Vivek Ghamande</td>\n",
       "      <td>Arvind Jangid</td>\n",
       "      <td>Rasika Dugal, Vivek Ghamande, Arvind Jangid</td>\n",
       "      <td>613</td>\n",
       "      <td>224</td>\n",
       "      <td>3793</td>\n",
       "    </tr>\n",
       "    <tr>\n",
       "      <th>3</th>\n",
       "      <td>#Yaaram</td>\n",
       "      <td>-2019.0</td>\n",
       "      <td>110</td>\n",
       "      <td>Comedy, Romance</td>\n",
       "      <td>4.4</td>\n",
       "      <td>35</td>\n",
       "      <td>Ovais Khan</td>\n",
       "      <td>Prateik</td>\n",
       "      <td>Ishita Raj</td>\n",
       "      <td>Siddhant Kapoor</td>\n",
       "      <td>Prateik, Ishita Raj, Siddhant Kapoor</td>\n",
       "      <td>1310</td>\n",
       "      <td>182</td>\n",
       "      <td>3268</td>\n",
       "    </tr>\n",
       "    <tr>\n",
       "      <th>5</th>\n",
       "      <td>...Aur Pyaar Ho Gaya</td>\n",
       "      <td>-1997.0</td>\n",
       "      <td>147</td>\n",
       "      <td>Comedy, Drama, Musical</td>\n",
       "      <td>4.7</td>\n",
       "      <td>827</td>\n",
       "      <td>Rahul Rawail</td>\n",
       "      <td>Bobby Deol</td>\n",
       "      <td>Aishwarya Rai Bachchan</td>\n",
       "      <td>Shammi Kapoor</td>\n",
       "      <td>Bobby Deol, Aishwarya Rai Bachchan, Shammi Kapoor</td>\n",
       "      <td>1498</td>\n",
       "      <td>155</td>\n",
       "      <td>1092</td>\n",
       "    </tr>\n",
       "    <tr>\n",
       "      <th>6</th>\n",
       "      <td>...Yahaan</td>\n",
       "      <td>-2005.0</td>\n",
       "      <td>142</td>\n",
       "      <td>Drama, Romance, War</td>\n",
       "      <td>7.4</td>\n",
       "      <td>1086</td>\n",
       "      <td>Shoojit Sircar</td>\n",
       "      <td>Jimmy Sheirgill</td>\n",
       "      <td>Minissha Lamba</td>\n",
       "      <td>Yashpal Sharma</td>\n",
       "      <td>Jimmy Sheirgill, Minissha Lamba, Yashpal Sharma</td>\n",
       "      <td>1999</td>\n",
       "      <td>283</td>\n",
       "      <td>2041</td>\n",
       "    </tr>\n",
       "    <tr>\n",
       "      <th>8</th>\n",
       "      <td>?: A Question Mark</td>\n",
       "      <td>-2012.0</td>\n",
       "      <td>82</td>\n",
       "      <td>Horror, Mystery, Thriller</td>\n",
       "      <td>5.6</td>\n",
       "      <td>326</td>\n",
       "      <td>Allyson Patel</td>\n",
       "      <td>Yash Dave</td>\n",
       "      <td>Muntazir Ahmad</td>\n",
       "      <td>Kiran Bhatia</td>\n",
       "      <td>Yash Dave, Muntazir Ahmad, Kiran Bhatia</td>\n",
       "      <td>133</td>\n",
       "      <td>314</td>\n",
       "      <td>5443</td>\n",
       "    </tr>\n",
       "    <tr>\n",
       "      <th>9</th>\n",
       "      <td>@Andheri</td>\n",
       "      <td>-2014.0</td>\n",
       "      <td>116</td>\n",
       "      <td>Action, Crime, Thriller</td>\n",
       "      <td>4.0</td>\n",
       "      <td>11</td>\n",
       "      <td>Biju Bhaskar Nair</td>\n",
       "      <td>Augustine</td>\n",
       "      <td>Fathima Babu</td>\n",
       "      <td>Byon</td>\n",
       "      <td>Augustine, Fathima Babu, Byon</td>\n",
       "      <td>390</td>\n",
       "      <td>37</td>\n",
       "      <td>949</td>\n",
       "    </tr>\n",
       "    <tr>\n",
       "      <th>10</th>\n",
       "      <td>1:1.6 An Ode to Lost Love</td>\n",
       "      <td>-2004.0</td>\n",
       "      <td>96</td>\n",
       "      <td>Drama</td>\n",
       "      <td>6.2</td>\n",
       "      <td>17</td>\n",
       "      <td>Madhu Ambat</td>\n",
       "      <td>Rati Agnihotri</td>\n",
       "      <td>Gulshan Grover</td>\n",
       "      <td>Atul Kulkarni</td>\n",
       "      <td>Rati Agnihotri, Gulshan Grover, Atul Kulkarni</td>\n",
       "      <td>1061</td>\n",
       "      <td>224</td>\n",
       "      <td>3798</td>\n",
       "    </tr>\n",
       "    <tr>\n",
       "      <th>11</th>\n",
       "      <td>1:13:7 Ek Tera Saath</td>\n",
       "      <td>-2016.0</td>\n",
       "      <td>120</td>\n",
       "      <td>Horror</td>\n",
       "      <td>5.9</td>\n",
       "      <td>59</td>\n",
       "      <td>Arshad Siddiqui</td>\n",
       "      <td>Pankaj Berry</td>\n",
       "      <td>Anubhav Dhir</td>\n",
       "      <td>Hritu Dudani</td>\n",
       "      <td>Pankaj Berry, Anubhav Dhir, Hritu Dudani</td>\n",
       "      <td>258</td>\n",
       "      <td>310</td>\n",
       "      <td>3157</td>\n",
       "    </tr>\n",
       "    <tr>\n",
       "      <th>12</th>\n",
       "      <td>100 Days</td>\n",
       "      <td>-1991.0</td>\n",
       "      <td>161</td>\n",
       "      <td>Horror, Romance, Thriller</td>\n",
       "      <td>6.5</td>\n",
       "      <td>983</td>\n",
       "      <td>Partho Ghosh</td>\n",
       "      <td>Jackie Shroff</td>\n",
       "      <td>Madhuri Dixit</td>\n",
       "      <td>Javed Jaffrey</td>\n",
       "      <td>Jackie Shroff, Madhuri Dixit, Javed Jaffrey</td>\n",
       "      <td>1347</td>\n",
       "      <td>317</td>\n",
       "      <td>1860</td>\n",
       "    </tr>\n",
       "  </tbody>\n",
       "</table>\n",
       "</div>"
      ],
      "text/plain": [
       "                                  Name    Year  Duration  \\\n",
       "1   #Gadhvi (He thought he was Gandhi) -2019.0       109   \n",
       "3                              #Yaaram -2019.0       110   \n",
       "5                 ...Aur Pyaar Ho Gaya -1997.0       147   \n",
       "6                            ...Yahaan -2005.0       142   \n",
       "8                   ?: A Question Mark -2012.0        82   \n",
       "9                             @Andheri -2014.0       116   \n",
       "10           1:1.6 An Ode to Lost Love -2004.0        96   \n",
       "11                1:13:7 Ek Tera Saath -2016.0       120   \n",
       "12                            100 Days -1991.0       161   \n",
       "\n",
       "                        Genre  Rating  Votes           Director  \\\n",
       "1                       Drama     7.0      8      Gaurav Bakshi   \n",
       "3             Comedy, Romance     4.4     35         Ovais Khan   \n",
       "5      Comedy, Drama, Musical     4.7    827       Rahul Rawail   \n",
       "6         Drama, Romance, War     7.4   1086     Shoojit Sircar   \n",
       "8   Horror, Mystery, Thriller     5.6    326      Allyson Patel   \n",
       "9     Action, Crime, Thriller     4.0     11  Biju Bhaskar Nair   \n",
       "10                      Drama     6.2     17        Madhu Ambat   \n",
       "11                     Horror     5.9     59    Arshad Siddiqui   \n",
       "12  Horror, Romance, Thriller     6.5    983       Partho Ghosh   \n",
       "\n",
       "            Actor 1                 Actor 2          Actor 3  \\\n",
       "1      Rasika Dugal          Vivek Ghamande    Arvind Jangid   \n",
       "3           Prateik              Ishita Raj  Siddhant Kapoor   \n",
       "5        Bobby Deol  Aishwarya Rai Bachchan    Shammi Kapoor   \n",
       "6   Jimmy Sheirgill          Minissha Lamba   Yashpal Sharma   \n",
       "8         Yash Dave          Muntazir Ahmad     Kiran Bhatia   \n",
       "9         Augustine            Fathima Babu             Byon   \n",
       "10   Rati Agnihotri          Gulshan Grover    Atul Kulkarni   \n",
       "11     Pankaj Berry            Anubhav Dhir     Hritu Dudani   \n",
       "12    Jackie Shroff           Madhuri Dixit    Javed Jaffrey   \n",
       "\n",
       "                                                Actor  Directors  Genres  \\\n",
       "1         Rasika Dugal, Vivek Ghamande, Arvind Jangid        613     224   \n",
       "3                Prateik, Ishita Raj, Siddhant Kapoor       1310     182   \n",
       "5   Bobby Deol, Aishwarya Rai Bachchan, Shammi Kapoor       1498     155   \n",
       "6     Jimmy Sheirgill, Minissha Lamba, Yashpal Sharma       1999     283   \n",
       "8             Yash Dave, Muntazir Ahmad, Kiran Bhatia        133     314   \n",
       "9                       Augustine, Fathima Babu, Byon        390      37   \n",
       "10      Rati Agnihotri, Gulshan Grover, Atul Kulkarni       1061     224   \n",
       "11           Pankaj Berry, Anubhav Dhir, Hritu Dudani        258     310   \n",
       "12        Jackie Shroff, Madhuri Dixit, Javed Jaffrey       1347     317   \n",
       "\n",
       "    Actors  \n",
       "1     3793  \n",
       "3     3268  \n",
       "5     1092  \n",
       "6     2041  \n",
       "8     5443  \n",
       "9      949  \n",
       "10    3798  \n",
       "11    3157  \n",
       "12    1860  "
      ]
     },
     "execution_count": 39,
     "metadata": {},
     "output_type": "execute_result"
    }
   ],
   "source": [
    "Q1 = df['Genres'].quantile(0.28)\n",
    "Q3 = df['Genres'].quantile(0.78)\n",
    "IQR = Q3 - Q1\n",
    "lower_bound = Q1 - 1.5 * IQR\n",
    "upper_bound = Q3 + 1.5 * IQR\n",
    "df = df[(df['Genres'] >= lower_bound) & (df['Genres'] <= upper_bound)]\n",
    "df.head(9)"
   ]
  },
  {
   "cell_type": "code",
   "execution_count": 40,
   "id": "e22db9ea",
   "metadata": {
    "execution": {
     "iopub.execute_input": "2023-08-28T16:44:56.375167Z",
     "iopub.status.busy": "2023-08-28T16:44:56.374477Z",
     "iopub.status.idle": "2023-08-28T16:44:56.522883Z",
     "shell.execute_reply": "2023-08-28T16:44:56.522106Z"
    },
    "papermill": {
     "duration": 0.173261,
     "end_time": "2023-08-28T16:44:56.524722",
     "exception": false,
     "start_time": "2023-08-28T16:44:56.351461",
     "status": "completed"
    },
    "tags": []
   },
   "outputs": [
    {
     "data": {
      "image/png": "[encoded data removed]",
      "text/plain": [
       "<Figure size 640x480 with 1 Axes>"
      ]
     },
     "metadata": {},
     "output_type": "display_data"
    }
   ],
   "source": [
    "ax = sb.boxplot(data=df, y='Directors')\n",
    "ax.set_ylabel('Directors')\n",
    "ax.set_title('Plotting Box of Directors')\n",
    "mpl.show()"
   ]
  },
  {
   "cell_type": "code",
   "execution_count": 41,
   "id": "8f90b4cf",
   "metadata": {
    "execution": {
     "iopub.execute_input": "2023-08-28T16:44:56.568827Z",
     "iopub.status.busy": "2023-08-28T16:44:56.568186Z",
     "iopub.status.idle": "2023-08-28T16:44:56.590992Z",
     "shell.execute_reply": "2023-08-28T16:44:56.589615Z"
    },
    "papermill": {
     "duration": 0.047418,
     "end_time": "2023-08-28T16:44:56.593289",
     "exception": false,
     "start_time": "2023-08-28T16:44:56.545871",
     "status": "completed"
    },
    "tags": []
   },
   "outputs": [
    {
     "data": {
      "text/html": [
       "<div>\n",
       "<style scoped>\n",
       "    .dataframe tbody tr th:only-of-type {\n",
       "        vertical-align: middle;\n",
       "    }\n",
       "\n",
       "    .dataframe tbody tr th {\n",
       "        vertical-align: top;\n",
       "    }\n",
       "\n",
       "    .dataframe thead th {\n",
       "        text-align: right;\n",
       "    }\n",
       "</style>\n",
       "<table border=\"1\" class=\"dataframe\">\n",
       "  <thead>\n",
       "    <tr style=\"text-align: right;\">\n",
       "      <th></th>\n",
       "      <th>Name</th>\n",
       "      <th>Year</th>\n",
       "      <th>Duration</th>\n",
       "      <th>Genre</th>\n",
       "      <th>Rating</th>\n",
       "      <th>Votes</th>\n",
       "      <th>Director</th>\n",
       "      <th>Actor 1</th>\n",
       "      <th>Actor 2</th>\n",
       "      <th>Actor 3</th>\n",
       "      <th>Actor</th>\n",
       "      <th>Directors</th>\n",
       "      <th>Genres</th>\n",
       "      <th>Actors</th>\n",
       "    </tr>\n",
       "  </thead>\n",
       "  <tbody>\n",
       "    <tr>\n",
       "      <th>1</th>\n",
       "      <td>#Gadhvi (He thought he was Gandhi)</td>\n",
       "      <td>-2019.0</td>\n",
       "      <td>109</td>\n",
       "      <td>Drama</td>\n",
       "      <td>7.0</td>\n",
       "      <td>8</td>\n",
       "      <td>Gaurav Bakshi</td>\n",
       "      <td>Rasika Dugal</td>\n",
       "      <td>Vivek Ghamande</td>\n",
       "      <td>Arvind Jangid</td>\n",
       "      <td>Rasika Dugal, Vivek Ghamande, Arvind Jangid</td>\n",
       "      <td>613</td>\n",
       "      <td>224</td>\n",
       "      <td>3793</td>\n",
       "    </tr>\n",
       "    <tr>\n",
       "      <th>3</th>\n",
       "      <td>#Yaaram</td>\n",
       "      <td>-2019.0</td>\n",
       "      <td>110</td>\n",
       "      <td>Comedy, Romance</td>\n",
       "      <td>4.4</td>\n",
       "      <td>35</td>\n",
       "      <td>Ovais Khan</td>\n",
       "      <td>Prateik</td>\n",
       "      <td>Ishita Raj</td>\n",
       "      <td>Siddhant Kapoor</td>\n",
       "      <td>Prateik, Ishita Raj, Siddhant Kapoor</td>\n",
       "      <td>1310</td>\n",
       "      <td>182</td>\n",
       "      <td>3268</td>\n",
       "    </tr>\n",
       "    <tr>\n",
       "      <th>5</th>\n",
       "      <td>...Aur Pyaar Ho Gaya</td>\n",
       "      <td>-1997.0</td>\n",
       "      <td>147</td>\n",
       "      <td>Comedy, Drama, Musical</td>\n",
       "      <td>4.7</td>\n",
       "      <td>827</td>\n",
       "      <td>Rahul Rawail</td>\n",
       "      <td>Bobby Deol</td>\n",
       "      <td>Aishwarya Rai Bachchan</td>\n",
       "      <td>Shammi Kapoor</td>\n",
       "      <td>Bobby Deol, Aishwarya Rai Bachchan, Shammi Kapoor</td>\n",
       "      <td>1498</td>\n",
       "      <td>155</td>\n",
       "      <td>1092</td>\n",
       "    </tr>\n",
       "    <tr>\n",
       "      <th>6</th>\n",
       "      <td>...Yahaan</td>\n",
       "      <td>-2005.0</td>\n",
       "      <td>142</td>\n",
       "      <td>Drama, Romance, War</td>\n",
       "      <td>7.4</td>\n",
       "      <td>1086</td>\n",
       "      <td>Shoojit Sircar</td>\n",
       "      <td>Jimmy Sheirgill</td>\n",
       "      <td>Minissha Lamba</td>\n",
       "      <td>Yashpal Sharma</td>\n",
       "      <td>Jimmy Sheirgill, Minissha Lamba, Yashpal Sharma</td>\n",
       "      <td>1999</td>\n",
       "      <td>283</td>\n",
       "      <td>2041</td>\n",
       "    </tr>\n",
       "    <tr>\n",
       "      <th>8</th>\n",
       "      <td>?: A Question Mark</td>\n",
       "      <td>-2012.0</td>\n",
       "      <td>82</td>\n",
       "      <td>Horror, Mystery, Thriller</td>\n",
       "      <td>5.6</td>\n",
       "      <td>326</td>\n",
       "      <td>Allyson Patel</td>\n",
       "      <td>Yash Dave</td>\n",
       "      <td>Muntazir Ahmad</td>\n",
       "      <td>Kiran Bhatia</td>\n",
       "      <td>Yash Dave, Muntazir Ahmad, Kiran Bhatia</td>\n",
       "      <td>133</td>\n",
       "      <td>314</td>\n",
       "      <td>5443</td>\n",
       "    </tr>\n",
       "  </tbody>\n",
       "</table>\n",
       "</div>"
      ],
      "text/plain": [
       "                                 Name    Year  Duration  \\\n",
       "1  #Gadhvi (He thought he was Gandhi) -2019.0       109   \n",
       "3                             #Yaaram -2019.0       110   \n",
       "5                ...Aur Pyaar Ho Gaya -1997.0       147   \n",
       "6                           ...Yahaan -2005.0       142   \n",
       "8                  ?: A Question Mark -2012.0        82   \n",
       "\n",
       "                       Genre  Rating  Votes        Director          Actor 1  \\\n",
       "1                      Drama     7.0      8   Gaurav Bakshi     Rasika Dugal   \n",
       "3            Comedy, Romance     4.4     35      Ovais Khan          Prateik   \n",
       "5     Comedy, Drama, Musical     4.7    827    Rahul Rawail       Bobby Deol   \n",
       "6        Drama, Romance, War     7.4   1086  Shoojit Sircar  Jimmy Sheirgill   \n",
       "8  Horror, Mystery, Thriller     5.6    326   Allyson Patel        Yash Dave   \n",
       "\n",
       "                  Actor 2          Actor 3  \\\n",
       "1          Vivek Ghamande    Arvind Jangid   \n",
       "3              Ishita Raj  Siddhant Kapoor   \n",
       "5  Aishwarya Rai Bachchan    Shammi Kapoor   \n",
       "6          Minissha Lamba   Yashpal Sharma   \n",
       "8          Muntazir Ahmad     Kiran Bhatia   \n",
       "\n",
       "                                               Actor  Directors  Genres  \\\n",
       "1        Rasika Dugal, Vivek Ghamande, Arvind Jangid        613     224   \n",
       "3               Prateik, Ishita Raj, Siddhant Kapoor       1310     182   \n",
       "5  Bobby Deol, Aishwarya Rai Bachchan, Shammi Kapoor       1498     155   \n",
       "6    Jimmy Sheirgill, Minissha Lamba, Yashpal Sharma       1999     283   \n",
       "8            Yash Dave, Muntazir Ahmad, Kiran Bhatia        133     314   \n",
       "\n",
       "   Actors  \n",
       "1    3793  \n",
       "3    3268  \n",
       "5    1092  \n",
       "6    2041  \n",
       "8    5443  "
      ]
     },
     "execution_count": 41,
     "metadata": {},
     "output_type": "execute_result"
    }
   ],
   "source": [
    "Q1 = df['Directors'].quantile(0.25)\n",
    "Q3 = df['Directors'].quantile(0.75)\n",
    "IQR = Q3 - Q1\n",
    "lower_bound = Q1 - 1.5 * IQR\n",
    "upper_bound = Q3 + 1.5 * IQR\n",
    "df = df[(df['Directors'] >= lower_bound) & (df['Directors'] <= upper_bound)]\n",
    "df.head(5)"
   ]
  },
  {
   "cell_type": "code",
   "execution_count": 42,
   "id": "8718e361",
   "metadata": {
    "execution": {
     "iopub.execute_input": "2023-08-28T16:44:56.640896Z",
     "iopub.status.busy": "2023-08-28T16:44:56.640541Z",
     "iopub.status.idle": "2023-08-28T16:44:56.777000Z",
     "shell.execute_reply": "2023-08-28T16:44:56.775551Z"
    },
    "papermill": {
     "duration": 0.163997,
     "end_time": "2023-08-28T16:44:56.779600",
     "exception": false,
     "start_time": "2023-08-28T16:44:56.615603",
     "status": "completed"
    },
    "tags": []
   },
   "outputs": [
    {
     "data": {
      "image/png": "[encoded data removed]",
      "text/plain": [
       "<Figure size 640x480 with 1 Axes>"
      ]
     },
     "metadata": {},
     "output_type": "display_data"
    }
   ],
   "source": [
    "ax = sb.boxplot(data=df, y='Actors')\n",
    "ax.set_ylabel('Actors')\n",
    "ax.set_title('Plotting Box of Actors')\n",
    "mpl.show()"
   ]
  },
  {
   "cell_type": "code",
   "execution_count": 43,
   "id": "28c038af",
   "metadata": {
    "execution": {
     "iopub.execute_input": "2023-08-28T16:44:56.826521Z",
     "iopub.status.busy": "2023-08-28T16:44:56.826159Z",
     "iopub.status.idle": "2023-08-28T16:44:56.846506Z",
     "shell.execute_reply": "2023-08-28T16:44:56.845596Z"
    },
    "papermill": {
     "duration": 0.046196,
     "end_time": "2023-08-28T16:44:56.848267",
     "exception": false,
     "start_time": "2023-08-28T16:44:56.802071",
     "status": "completed"
    },
    "tags": []
   },
   "outputs": [
    {
     "data": {
      "text/html": [
       "<div>\n",
       "<style scoped>\n",
       "    .dataframe tbody tr th:only-of-type {\n",
       "        vertical-align: middle;\n",
       "    }\n",
       "\n",
       "    .dataframe tbody tr th {\n",
       "        vertical-align: top;\n",
       "    }\n",
       "\n",
       "    .dataframe thead th {\n",
       "        text-align: right;\n",
       "    }\n",
       "</style>\n",
       "<table border=\"1\" class=\"dataframe\">\n",
       "  <thead>\n",
       "    <tr style=\"text-align: right;\">\n",
       "      <th></th>\n",
       "      <th>Name</th>\n",
       "      <th>Year</th>\n",
       "      <th>Duration</th>\n",
       "      <th>Genre</th>\n",
       "      <th>Rating</th>\n",
       "      <th>Votes</th>\n",
       "      <th>Director</th>\n",
       "      <th>Actor 1</th>\n",
       "      <th>Actor 2</th>\n",
       "      <th>Actor 3</th>\n",
       "      <th>Actor</th>\n",
       "      <th>Directors</th>\n",
       "      <th>Genres</th>\n",
       "      <th>Actors</th>\n",
       "    </tr>\n",
       "  </thead>\n",
       "  <tbody>\n",
       "    <tr>\n",
       "      <th>1</th>\n",
       "      <td>#Gadhvi (He thought he was Gandhi)</td>\n",
       "      <td>-2019.0</td>\n",
       "      <td>109</td>\n",
       "      <td>Drama</td>\n",
       "      <td>7.0</td>\n",
       "      <td>8</td>\n",
       "      <td>Gaurav Bakshi</td>\n",
       "      <td>Rasika Dugal</td>\n",
       "      <td>Vivek Ghamande</td>\n",
       "      <td>Arvind Jangid</td>\n",
       "      <td>Rasika Dugal, Vivek Ghamande, Arvind Jangid</td>\n",
       "      <td>613</td>\n",
       "      <td>224</td>\n",
       "      <td>3793</td>\n",
       "    </tr>\n",
       "    <tr>\n",
       "      <th>3</th>\n",
       "      <td>#Yaaram</td>\n",
       "      <td>-2019.0</td>\n",
       "      <td>110</td>\n",
       "      <td>Comedy, Romance</td>\n",
       "      <td>4.4</td>\n",
       "      <td>35</td>\n",
       "      <td>Ovais Khan</td>\n",
       "      <td>Prateik</td>\n",
       "      <td>Ishita Raj</td>\n",
       "      <td>Siddhant Kapoor</td>\n",
       "      <td>Prateik, Ishita Raj, Siddhant Kapoor</td>\n",
       "      <td>1310</td>\n",
       "      <td>182</td>\n",
       "      <td>3268</td>\n",
       "    </tr>\n",
       "    <tr>\n",
       "      <th>5</th>\n",
       "      <td>...Aur Pyaar Ho Gaya</td>\n",
       "      <td>-1997.0</td>\n",
       "      <td>147</td>\n",
       "      <td>Comedy, Drama, Musical</td>\n",
       "      <td>4.7</td>\n",
       "      <td>827</td>\n",
       "      <td>Rahul Rawail</td>\n",
       "      <td>Bobby Deol</td>\n",
       "      <td>Aishwarya Rai Bachchan</td>\n",
       "      <td>Shammi Kapoor</td>\n",
       "      <td>Bobby Deol, Aishwarya Rai Bachchan, Shammi Kapoor</td>\n",
       "      <td>1498</td>\n",
       "      <td>155</td>\n",
       "      <td>1092</td>\n",
       "    </tr>\n",
       "    <tr>\n",
       "      <th>6</th>\n",
       "      <td>...Yahaan</td>\n",
       "      <td>-2005.0</td>\n",
       "      <td>142</td>\n",
       "      <td>Drama, Romance, War</td>\n",
       "      <td>7.4</td>\n",
       "      <td>1086</td>\n",
       "      <td>Shoojit Sircar</td>\n",
       "      <td>Jimmy Sheirgill</td>\n",
       "      <td>Minissha Lamba</td>\n",
       "      <td>Yashpal Sharma</td>\n",
       "      <td>Jimmy Sheirgill, Minissha Lamba, Yashpal Sharma</td>\n",
       "      <td>1999</td>\n",
       "      <td>283</td>\n",
       "      <td>2041</td>\n",
       "    </tr>\n",
       "    <tr>\n",
       "      <th>8</th>\n",
       "      <td>?: A Question Mark</td>\n",
       "      <td>-2012.0</td>\n",
       "      <td>82</td>\n",
       "      <td>Horror, Mystery, Thriller</td>\n",
       "      <td>5.6</td>\n",
       "      <td>326</td>\n",
       "      <td>Allyson Patel</td>\n",
       "      <td>Yash Dave</td>\n",
       "      <td>Muntazir Ahmad</td>\n",
       "      <td>Kiran Bhatia</td>\n",
       "      <td>Yash Dave, Muntazir Ahmad, Kiran Bhatia</td>\n",
       "      <td>133</td>\n",
       "      <td>314</td>\n",
       "      <td>5443</td>\n",
       "    </tr>\n",
       "    <tr>\n",
       "      <th>9</th>\n",
       "      <td>@Andheri</td>\n",
       "      <td>-2014.0</td>\n",
       "      <td>116</td>\n",
       "      <td>Action, Crime, Thriller</td>\n",
       "      <td>4.0</td>\n",
       "      <td>11</td>\n",
       "      <td>Biju Bhaskar Nair</td>\n",
       "      <td>Augustine</td>\n",
       "      <td>Fathima Babu</td>\n",
       "      <td>Byon</td>\n",
       "      <td>Augustine, Fathima Babu, Byon</td>\n",
       "      <td>390</td>\n",
       "      <td>37</td>\n",
       "      <td>949</td>\n",
       "    </tr>\n",
       "    <tr>\n",
       "      <th>10</th>\n",
       "      <td>1:1.6 An Ode to Lost Love</td>\n",
       "      <td>-2004.0</td>\n",
       "      <td>96</td>\n",
       "      <td>Drama</td>\n",
       "      <td>6.2</td>\n",
       "      <td>17</td>\n",
       "      <td>Madhu Ambat</td>\n",
       "      <td>Rati Agnihotri</td>\n",
       "      <td>Gulshan Grover</td>\n",
       "      <td>Atul Kulkarni</td>\n",
       "      <td>Rati Agnihotri, Gulshan Grover, Atul Kulkarni</td>\n",
       "      <td>1061</td>\n",
       "      <td>224</td>\n",
       "      <td>3798</td>\n",
       "    </tr>\n",
       "    <tr>\n",
       "      <th>11</th>\n",
       "      <td>1:13:7 Ek Tera Saath</td>\n",
       "      <td>-2016.0</td>\n",
       "      <td>120</td>\n",
       "      <td>Horror</td>\n",
       "      <td>5.9</td>\n",
       "      <td>59</td>\n",
       "      <td>Arshad Siddiqui</td>\n",
       "      <td>Pankaj Berry</td>\n",
       "      <td>Anubhav Dhir</td>\n",
       "      <td>Hritu Dudani</td>\n",
       "      <td>Pankaj Berry, Anubhav Dhir, Hritu Dudani</td>\n",
       "      <td>258</td>\n",
       "      <td>310</td>\n",
       "      <td>3157</td>\n",
       "    </tr>\n",
       "    <tr>\n",
       "      <th>12</th>\n",
       "      <td>100 Days</td>\n",
       "      <td>-1991.0</td>\n",
       "      <td>161</td>\n",
       "      <td>Horror, Romance, Thriller</td>\n",
       "      <td>6.5</td>\n",
       "      <td>983</td>\n",
       "      <td>Partho Ghosh</td>\n",
       "      <td>Jackie Shroff</td>\n",
       "      <td>Madhuri Dixit</td>\n",
       "      <td>Javed Jaffrey</td>\n",
       "      <td>Jackie Shroff, Madhuri Dixit, Javed Jaffrey</td>\n",
       "      <td>1347</td>\n",
       "      <td>317</td>\n",
       "      <td>1860</td>\n",
       "    </tr>\n",
       "  </tbody>\n",
       "</table>\n",
       "</div>"
      ],
      "text/plain": [
       "                                  Name    Year  Duration  \\\n",
       "1   #Gadhvi (He thought he was Gandhi) -2019.0       109   \n",
       "3                              #Yaaram -2019.0       110   \n",
       "5                 ...Aur Pyaar Ho Gaya -1997.0       147   \n",
       "6                            ...Yahaan -2005.0       142   \n",
       "8                   ?: A Question Mark -2012.0        82   \n",
       "9                             @Andheri -2014.0       116   \n",
       "10           1:1.6 An Ode to Lost Love -2004.0        96   \n",
       "11                1:13:7 Ek Tera Saath -2016.0       120   \n",
       "12                            100 Days -1991.0       161   \n",
       "\n",
       "                        Genre  Rating  Votes           Director  \\\n",
       "1                       Drama     7.0      8      Gaurav Bakshi   \n",
       "3             Comedy, Romance     4.4     35         Ovais Khan   \n",
       "5      Comedy, Drama, Musical     4.7    827       Rahul Rawail   \n",
       "6         Drama, Romance, War     7.4   1086     Shoojit Sircar   \n",
       "8   Horror, Mystery, Thriller     5.6    326      Allyson Patel   \n",
       "9     Action, Crime, Thriller     4.0     11  Biju Bhaskar Nair   \n",
       "10                      Drama     6.2     17        Madhu Ambat   \n",
       "11                     Horror     5.9     59    Arshad Siddiqui   \n",
       "12  Horror, Romance, Thriller     6.5    983       Partho Ghosh   \n",
       "\n",
       "            Actor 1                 Actor 2          Actor 3  \\\n",
       "1      Rasika Dugal          Vivek Ghamande    Arvind Jangid   \n",
       "3           Prateik              Ishita Raj  Siddhant Kapoor   \n",
       "5        Bobby Deol  Aishwarya Rai Bachchan    Shammi Kapoor   \n",
       "6   Jimmy Sheirgill          Minissha Lamba   Yashpal Sharma   \n",
       "8         Yash Dave          Muntazir Ahmad     Kiran Bhatia   \n",
       "9         Augustine            Fathima Babu             Byon   \n",
       "10   Rati Agnihotri          Gulshan Grover    Atul Kulkarni   \n",
       "11     Pankaj Berry            Anubhav Dhir     Hritu Dudani   \n",
       "12    Jackie Shroff           Madhuri Dixit    Javed Jaffrey   \n",
       "\n",
       "                                                Actor  Directors  Genres  \\\n",
       "1         Rasika Dugal, Vivek Ghamande, Arvind Jangid        613     224   \n",
       "3                Prateik, Ishita Raj, Siddhant Kapoor       1310     182   \n",
       "5   Bobby Deol, Aishwarya Rai Bachchan, Shammi Kapoor       1498     155   \n",
       "6     Jimmy Sheirgill, Minissha Lamba, Yashpal Sharma       1999     283   \n",
       "8             Yash Dave, Muntazir Ahmad, Kiran Bhatia        133     314   \n",
       "9                       Augustine, Fathima Babu, Byon        390      37   \n",
       "10      Rati Agnihotri, Gulshan Grover, Atul Kulkarni       1061     224   \n",
       "11           Pankaj Berry, Anubhav Dhir, Hritu Dudani        258     310   \n",
       "12        Jackie Shroff, Madhuri Dixit, Javed Jaffrey       1347     317   \n",
       "\n",
       "    Actors  \n",
       "1     3793  \n",
       "3     3268  \n",
       "5     1092  \n",
       "6     2041  \n",
       "8     5443  \n",
       "9      949  \n",
       "10    3798  \n",
       "11    3157  \n",
       "12    1860  "
      ]
     },
     "execution_count": 43,
     "metadata": {},
     "output_type": "execute_result"
    }
   ],
   "source": [
    "Q1 = df['Actors'].quantile(0.28)\n",
    "Q3 = df['Actors'].quantile(0.78)\n",
    "IQR = Q3 - Q1\n",
    "lower_bound = Q1 - 1.5 * IQR\n",
    "upper_bound = Q3 + 1.5 * IQR\n",
    "df = df[(df['Actors'] >= lower_bound) & (df['Actors'] <= upper_bound)]\n",
    "df.head(9)"
   ]
  },
  {
   "cell_type": "markdown",
   "id": "57c2c444",
   "metadata": {
    "papermill": {
     "duration": 0.021312,
     "end_time": "2023-08-28T16:44:56.891603",
     "exception": false,
     "start_time": "2023-08-28T16:44:56.870291",
     "status": "completed"
    },
    "tags": []
   },
   "source": [
    "# SPLITTING THE DATA"
   ]
  },
  {
   "cell_type": "code",
   "execution_count": 44,
   "id": "15e66d0f",
   "metadata": {
    "execution": {
     "iopub.execute_input": "2023-08-28T16:44:56.936207Z",
     "iopub.status.busy": "2023-08-28T16:44:56.935909Z",
     "iopub.status.idle": "2023-08-28T16:44:57.240971Z",
     "shell.execute_reply": "2023-08-28T16:44:57.239404Z"
    },
    "papermill": {
     "duration": 0.330369,
     "end_time": "2023-08-28T16:44:57.243592",
     "exception": false,
     "start_time": "2023-08-28T16:44:56.913223",
     "status": "completed"
    },
    "tags": []
   },
   "outputs": [],
   "source": [
    "from sklearn.model_selection import train_test_split"
   ]
  },
  {
   "cell_type": "code",
   "execution_count": 45,
   "id": "c71c06b2",
   "metadata": {
    "execution": {
     "iopub.execute_input": "2023-08-28T16:44:57.291256Z",
     "iopub.status.busy": "2023-08-28T16:44:57.290955Z",
     "iopub.status.idle": "2023-08-28T16:44:57.298498Z",
     "shell.execute_reply": "2023-08-28T16:44:57.297286Z"
    },
    "papermill": {
     "duration": 0.034059,
     "end_time": "2023-08-28T16:44:57.301120",
     "exception": false,
     "start_time": "2023-08-28T16:44:57.267061",
     "status": "completed"
    },
    "tags": []
   },
   "outputs": [],
   "source": [
    "Input = df.drop(['Name', 'Genre', 'Rating', 'Director', 'Actor 1', 'Actor 2', 'Actor 3', 'Actor'], axis=1)\n",
    "Output = df['Rating']"
   ]
  },
  {
   "cell_type": "code",
   "execution_count": 46,
   "id": "3681eb3d",
   "metadata": {
    "execution": {
     "iopub.execute_input": "2023-08-28T16:44:57.347072Z",
     "iopub.status.busy": "2023-08-28T16:44:57.345976Z",
     "iopub.status.idle": "2023-08-28T16:44:57.357802Z",
     "shell.execute_reply": "2023-08-28T16:44:57.356799Z"
    },
    "papermill": {
     "duration": 0.036673,
     "end_time": "2023-08-28T16:44:57.359809",
     "exception": false,
     "start_time": "2023-08-28T16:44:57.323136",
     "status": "completed"
    },
    "tags": []
   },
   "outputs": [
    {
     "data": {
      "text/html": [
       "<div>\n",
       "<style scoped>\n",
       "    .dataframe tbody tr th:only-of-type {\n",
       "        vertical-align: middle;\n",
       "    }\n",
       "\n",
       "    .dataframe tbody tr th {\n",
       "        vertical-align: top;\n",
       "    }\n",
       "\n",
       "    .dataframe thead th {\n",
       "        text-align: right;\n",
       "    }\n",
       "</style>\n",
       "<table border=\"1\" class=\"dataframe\">\n",
       "  <thead>\n",
       "    <tr style=\"text-align: right;\">\n",
       "      <th></th>\n",
       "      <th>Year</th>\n",
       "      <th>Duration</th>\n",
       "      <th>Votes</th>\n",
       "      <th>Directors</th>\n",
       "      <th>Genres</th>\n",
       "      <th>Actors</th>\n",
       "    </tr>\n",
       "  </thead>\n",
       "  <tbody>\n",
       "    <tr>\n",
       "      <th>1</th>\n",
       "      <td>-2019.0</td>\n",
       "      <td>109</td>\n",
       "      <td>8</td>\n",
       "      <td>613</td>\n",
       "      <td>224</td>\n",
       "      <td>3793</td>\n",
       "    </tr>\n",
       "    <tr>\n",
       "      <th>3</th>\n",
       "      <td>-2019.0</td>\n",
       "      <td>110</td>\n",
       "      <td>35</td>\n",
       "      <td>1310</td>\n",
       "      <td>182</td>\n",
       "      <td>3268</td>\n",
       "    </tr>\n",
       "    <tr>\n",
       "      <th>5</th>\n",
       "      <td>-1997.0</td>\n",
       "      <td>147</td>\n",
       "      <td>827</td>\n",
       "      <td>1498</td>\n",
       "      <td>155</td>\n",
       "      <td>1092</td>\n",
       "    </tr>\n",
       "    <tr>\n",
       "      <th>6</th>\n",
       "      <td>-2005.0</td>\n",
       "      <td>142</td>\n",
       "      <td>1086</td>\n",
       "      <td>1999</td>\n",
       "      <td>283</td>\n",
       "      <td>2041</td>\n",
       "    </tr>\n",
       "    <tr>\n",
       "      <th>8</th>\n",
       "      <td>-2012.0</td>\n",
       "      <td>82</td>\n",
       "      <td>326</td>\n",
       "      <td>133</td>\n",
       "      <td>314</td>\n",
       "      <td>5443</td>\n",
       "    </tr>\n",
       "    <tr>\n",
       "      <th>9</th>\n",
       "      <td>-2014.0</td>\n",
       "      <td>116</td>\n",
       "      <td>11</td>\n",
       "      <td>390</td>\n",
       "      <td>37</td>\n",
       "      <td>949</td>\n",
       "    </tr>\n",
       "    <tr>\n",
       "      <th>10</th>\n",
       "      <td>-2004.0</td>\n",
       "      <td>96</td>\n",
       "      <td>17</td>\n",
       "      <td>1061</td>\n",
       "      <td>224</td>\n",
       "      <td>3798</td>\n",
       "    </tr>\n",
       "    <tr>\n",
       "      <th>11</th>\n",
       "      <td>-2016.0</td>\n",
       "      <td>120</td>\n",
       "      <td>59</td>\n",
       "      <td>258</td>\n",
       "      <td>310</td>\n",
       "      <td>3157</td>\n",
       "    </tr>\n",
       "    <tr>\n",
       "      <th>12</th>\n",
       "      <td>-1991.0</td>\n",
       "      <td>161</td>\n",
       "      <td>983</td>\n",
       "      <td>1347</td>\n",
       "      <td>317</td>\n",
       "      <td>1860</td>\n",
       "    </tr>\n",
       "  </tbody>\n",
       "</table>\n",
       "</div>"
      ],
      "text/plain": [
       "      Year  Duration  Votes  Directors  Genres  Actors\n",
       "1  -2019.0       109      8        613     224    3793\n",
       "3  -2019.0       110     35       1310     182    3268\n",
       "5  -1997.0       147    827       1498     155    1092\n",
       "6  -2005.0       142   1086       1999     283    2041\n",
       "8  -2012.0        82    326        133     314    5443\n",
       "9  -2014.0       116     11        390      37     949\n",
       "10 -2004.0        96     17       1061     224    3798\n",
       "11 -2016.0       120     59        258     310    3157\n",
       "12 -1991.0       161    983       1347     317    1860"
      ]
     },
     "execution_count": 46,
     "metadata": {},
     "output_type": "execute_result"
    }
   ],
   "source": [
    "Input.head(9)"
   ]
  },
  {
   "cell_type": "code",
   "execution_count": 47,
   "id": "148378d7",
   "metadata": {
    "execution": {
     "iopub.execute_input": "2023-08-28T16:44:57.406486Z",
     "iopub.status.busy": "2023-08-28T16:44:57.406135Z",
     "iopub.status.idle": "2023-08-28T16:44:57.413936Z",
     "shell.execute_reply": "2023-08-28T16:44:57.412756Z"
    },
    "papermill": {
     "duration": 0.033869,
     "end_time": "2023-08-28T16:44:57.416491",
     "exception": false,
     "start_time": "2023-08-28T16:44:57.382622",
     "status": "completed"
    },
    "tags": []
   },
   "outputs": [
    {
     "data": {
      "text/plain": [
       "1     7.0\n",
       "3     4.4\n",
       "5     4.7\n",
       "6     7.4\n",
       "8     5.6\n",
       "9     4.0\n",
       "10    6.2\n",
       "11    5.9\n",
       "12    6.5\n",
       "Name: Rating, dtype: float64"
      ]
     },
     "execution_count": 47,
     "metadata": {},
     "output_type": "execute_result"
    }
   ],
   "source": [
    "Output.head(9)"
   ]
  },
  {
   "cell_type": "code",
   "execution_count": 48,
   "id": "c46c061c",
   "metadata": {
    "execution": {
     "iopub.execute_input": "2023-08-28T16:44:57.464057Z",
     "iopub.status.busy": "2023-08-28T16:44:57.463746Z",
     "iopub.status.idle": "2023-08-28T16:44:57.471115Z",
     "shell.execute_reply": "2023-08-28T16:44:57.470389Z"
    },
    "papermill": {
     "duration": 0.032703,
     "end_time": "2023-08-28T16:44:57.473065",
     "exception": false,
     "start_time": "2023-08-28T16:44:57.440362",
     "status": "completed"
    },
    "tags": []
   },
   "outputs": [],
   "source": [
    "x_train, x_test, y_train, y_test = train_test_split(Input, Output, test_size = 0.2, random_state = 1)"
   ]
  },
  {
   "cell_type": "markdown",
   "id": "b472c8b1",
   "metadata": {
    "papermill": {
     "duration": 0.022284,
     "end_time": "2023-08-28T16:44:57.517675",
     "exception": false,
     "start_time": "2023-08-28T16:44:57.495391",
     "status": "completed"
    },
    "tags": []
   },
   "source": [
    "# THE MODEL"
   ]
  },
  {
   "cell_type": "code",
   "execution_count": 49,
   "id": "9abcb4f4",
   "metadata": {
    "execution": {
     "iopub.execute_input": "2023-08-28T16:44:57.565022Z",
     "iopub.status.busy": "2023-08-28T16:44:57.564666Z",
     "iopub.status.idle": "2023-08-28T16:44:59.426094Z",
     "shell.execute_reply": "2023-08-28T16:44:59.424388Z"
    },
    "papermill": {
     "duration": 1.888546,
     "end_time": "2023-08-28T16:44:59.428653",
     "exception": false,
     "start_time": "2023-08-28T16:44:57.540107",
     "status": "completed"
    },
    "tags": []
   },
   "outputs": [],
   "source": [
    "from sklearn.linear_model import LinearRegression\n",
    "from sklearn.metrics import mean_squared_error, r2_score as score\n",
    "from sklearn.ensemble import RandomForestRegressor, GradientBoostingRegressor\n",
    "from sklearn.tree import DecisionTreeRegressor\n",
    "from xgboost import XGBRegressor\n",
    "from lightgbm import LGBMRegressor\n",
    "from catboost import CatBoostRegressor\n",
    "from sklearn.neighbors import KNeighborsRegressor\n",
    "from sklearn.svm import SVR"
   ]
  },
  {
   "cell_type": "code",
   "execution_count": 50,
   "id": "e28e3a99",
   "metadata": {
    "execution": {
     "iopub.execute_input": "2023-08-28T16:44:59.477620Z",
     "iopub.status.busy": "2023-08-28T16:44:59.477245Z",
     "iopub.status.idle": "2023-08-28T16:44:59.482421Z",
     "shell.execute_reply": "2023-08-28T16:44:59.481466Z"
    },
    "papermill": {
     "duration": 0.0331,
     "end_time": "2023-08-28T16:44:59.484740",
     "exception": false,
     "start_time": "2023-08-28T16:44:59.451640",
     "status": "completed"
    },
    "tags": []
   },
   "outputs": [],
   "source": [
    "def evaluate_model(y_true, y_pred, model_name):\n",
    "    print(\"Model: \", model_name)\n",
    "    print(\"Accuracy = {:0.2f}%\".format(score(y_true, y_pred)*100))\n",
    "    print(\"Mean Squared Error = {:0.2f}\\n\".format(mean_squared_error(y_true, y_pred, squared=False)))\n",
    "    return round(score(y_true, y_pred)*100, 2)"
   ]
  },
  {
   "cell_type": "code",
   "execution_count": 51,
   "id": "b52c44d9",
   "metadata": {
    "execution": {
     "iopub.execute_input": "2023-08-28T16:44:59.531369Z",
     "iopub.status.busy": "2023-08-28T16:44:59.530733Z",
     "iopub.status.idle": "2023-08-28T16:45:03.655870Z",
     "shell.execute_reply": "2023-08-28T16:45:03.654655Z"
    },
    "papermill": {
     "duration": 4.151416,
     "end_time": "2023-08-28T16:45:03.658273",
     "exception": false,
     "start_time": "2023-08-28T16:44:59.506857",
     "status": "completed"
    },
    "tags": []
   },
   "outputs": [
    {
     "name": "stdout",
     "output_type": "stream",
     "text": [
      "[LightGBM] [Warning] Auto-choosing row-wise multi-threading, the overhead of testing was 0.000713 seconds.\n",
      "You can set `force_row_wise=true` to remove the overhead.\n",
      "And if memory is not enough, you can set `force_col_wise=true`.\n",
      "[LightGBM] [Info] Total Bins 1194\n",
      "[LightGBM] [Info] Number of data points in the train set: 4431, number of used features: 6\n",
      "[LightGBM] [Info] Start training from score 5.899165\n"
     ]
    }
   ],
   "source": [
    "LR = LinearRegression()\n",
    "LR.fit(x_train, y_train)\n",
    "lr_preds = LR.predict(x_test)\n",
    "\n",
    "RFR = RandomForestRegressor(n_estimators=100, random_state=1)\n",
    "RFR.fit(x_train, y_train)\n",
    "rf_preds = RFR.predict(x_test)\n",
    "\n",
    "DTR = DecisionTreeRegressor(random_state=1)\n",
    "DTR.fit(x_train, y_train)\n",
    "dt_preds = DTR.predict(x_test)\n",
    "\n",
    "XGBR = XGBRegressor(n_estimators=100, random_state=1)\n",
    "XGBR.fit(x_train, y_train)\n",
    "xgb_preds = XGBR.predict(x_test)\n",
    "\n",
    "GBR = GradientBoostingRegressor(n_estimators=100, random_state=60)\n",
    "GBR.fit(x_train, y_train)\n",
    "gb_preds = GBR.predict(x_test)\n",
    "\n",
    "LGBMR = LGBMRegressor(n_estimators=100, random_state=60)\n",
    "LGBMR.fit(x_train, y_train)\n",
    "lgbm_preds = LGBMR.predict(x_test)\n",
    "\n",
    "CBR = CatBoostRegressor(n_estimators=100, random_state=1, verbose=False)\n",
    "CBR.fit(x_train, y_train)\n",
    "catboost_preds = CBR.predict(x_test)\n",
    "\n",
    "KNR = KNeighborsRegressor(n_neighbors=5)\n",
    "KNR.fit(x_train, y_train)\n",
    "knn_preds = KNR.predict(x_test)"
   ]
  },
  {
   "cell_type": "code",
   "execution_count": 52,
   "id": "f7b8670e",
   "metadata": {
    "execution": {
     "iopub.execute_input": "2023-08-28T16:45:03.705209Z",
     "iopub.status.busy": "2023-08-28T16:45:03.704847Z",
     "iopub.status.idle": "2023-08-28T16:45:03.720404Z",
     "shell.execute_reply": "2023-08-28T16:45:03.719361Z"
    },
    "papermill": {
     "duration": 0.041474,
     "end_time": "2023-08-28T16:45:03.722524",
     "exception": false,
     "start_time": "2023-08-28T16:45:03.681050",
     "status": "completed"
    },
    "tags": []
   },
   "outputs": [
    {
     "name": "stdout",
     "output_type": "stream",
     "text": [
      "Model:  LINEAR REGRESSION\n",
      "Accuracy = 10.01%\n",
      "Mean Squared Error = 1.26\n",
      "\n",
      "Model:  RANDOM FOREST\n",
      "Accuracy = 31.29%\n",
      "Mean Squared Error = 1.10\n",
      "\n",
      "Model:  DECEISION TREE\n",
      "Accuracy = -38.08%\n",
      "Mean Squared Error = 1.56\n",
      "\n",
      "Model:  EXTENDED GRADIENT BOOSTING\n",
      "Accuracy = 30.44%\n",
      "Mean Squared Error = 1.11\n",
      "\n",
      "Model:  GRADIENT BOOSTING\n",
      "Accuracy = 34.69%\n",
      "Mean Squared Error = 1.07\n",
      "\n",
      "Model:  LIGHT GRADIENT BOOSTING\n",
      "Accuracy = 35.45%\n",
      "Mean Squared Error = 1.07\n",
      "\n",
      "Model:  CAT BOOST\n",
      "Accuracy = 33.63%\n",
      "Mean Squared Error = 1.08\n",
      "\n",
      "Model:  K NEAREST NEIGHBORS\n",
      "Accuracy = -0.52%\n",
      "Mean Squared Error = 1.33\n",
      "\n"
     ]
    }
   ],
   "source": [
    "LRScore = evaluate_model(y_test, lr_preds, \"LINEAR REGRESSION\")\n",
    "RFScore = evaluate_model(y_test, rf_preds, \"RANDOM FOREST\")\n",
    "DTScore = evaluate_model(y_test, dt_preds, \"DECEISION TREE\")\n",
    "XGBScore = evaluate_model(y_test, xgb_preds, \"EXTENDED GRADIENT BOOSTING\")\n",
    "GBScore = evaluate_model(y_test, gb_preds, \"GRADIENT BOOSTING\")\n",
    "LGBScore = evaluate_model(y_test, lgbm_preds, \"LIGHT GRADIENT BOOSTING\")\n",
    "CBRScore = evaluate_model(y_test, catboost_preds, \"CAT BOOST\")\n",
    "KNNScore = evaluate_model(y_test, knn_preds, \"K NEAREST NEIGHBORS\")"
   ]
  },
  {
   "cell_type": "code",
   "execution_count": 53,
   "id": "eff74edc",
   "metadata": {
    "execution": {
     "iopub.execute_input": "2023-08-28T16:45:03.767711Z",
     "iopub.status.busy": "2023-08-28T16:45:03.767285Z",
     "iopub.status.idle": "2023-08-28T16:45:03.783652Z",
     "shell.execute_reply": "2023-08-28T16:45:03.782370Z"
    },
    "papermill": {
     "duration": 0.041646,
     "end_time": "2023-08-28T16:45:03.785929",
     "exception": false,
     "start_time": "2023-08-28T16:45:03.744283",
     "status": "completed"
    },
    "tags": []
   },
   "outputs": [
    {
     "data": {
      "text/html": [
       "<div>\n",
       "<style scoped>\n",
       "    .dataframe tbody tr th:only-of-type {\n",
       "        vertical-align: middle;\n",
       "    }\n",
       "\n",
       "    .dataframe tbody tr th {\n",
       "        vertical-align: top;\n",
       "    }\n",
       "\n",
       "    .dataframe thead th {\n",
       "        text-align: right;\n",
       "    }\n",
       "</style>\n",
       "<table border=\"1\" class=\"dataframe\">\n",
       "  <thead>\n",
       "    <tr style=\"text-align: right;\">\n",
       "      <th></th>\n",
       "      <th>MODELS</th>\n",
       "      <th>SCORES</th>\n",
       "    </tr>\n",
       "  </thead>\n",
       "  <tbody>\n",
       "    <tr>\n",
       "      <th>2</th>\n",
       "      <td>Decision Tree</td>\n",
       "      <td>-38.08</td>\n",
       "    </tr>\n",
       "    <tr>\n",
       "      <th>7</th>\n",
       "      <td>K Nearest Neighbors</td>\n",
       "      <td>-0.52</td>\n",
       "    </tr>\n",
       "    <tr>\n",
       "      <th>0</th>\n",
       "      <td>Linear Regression</td>\n",
       "      <td>10.01</td>\n",
       "    </tr>\n",
       "    <tr>\n",
       "      <th>4</th>\n",
       "      <td>Extended Gradient Boosting</td>\n",
       "      <td>30.44</td>\n",
       "    </tr>\n",
       "    <tr>\n",
       "      <th>1</th>\n",
       "      <td>Random Forest</td>\n",
       "      <td>31.29</td>\n",
       "    </tr>\n",
       "    <tr>\n",
       "      <th>6</th>\n",
       "      <td>Cat Boosting</td>\n",
       "      <td>33.63</td>\n",
       "    </tr>\n",
       "    <tr>\n",
       "      <th>3</th>\n",
       "      <td>Gradient Boosting</td>\n",
       "      <td>34.69</td>\n",
       "    </tr>\n",
       "    <tr>\n",
       "      <th>5</th>\n",
       "      <td>Light Gradient Boosting</td>\n",
       "      <td>35.45</td>\n",
       "    </tr>\n",
       "  </tbody>\n",
       "</table>\n",
       "</div>"
      ],
      "text/plain": [
       "                       MODELS  SCORES\n",
       "2               Decision Tree  -38.08\n",
       "7         K Nearest Neighbors   -0.52\n",
       "0           Linear Regression   10.01\n",
       "4  Extended Gradient Boosting   30.44\n",
       "1               Random Forest   31.29\n",
       "6                Cat Boosting   33.63\n",
       "3           Gradient Boosting   34.69\n",
       "5     Light Gradient Boosting   35.45"
      ]
     },
     "execution_count": 53,
     "metadata": {},
     "output_type": "execute_result"
    }
   ],
   "source": [
    "models = pd.DataFrame(\n",
    "    {\n",
    "        \"MODELS\": [\"Linear Regression\", \"Random Forest\", \"Decision Tree\", \"Gradient Boosting\", \"Extended Gradient Boosting\", \"Light Gradient Boosting\", \"Cat Boosting\", \"K Nearest Neighbors\"],\n",
    "        \"SCORES\": [LRScore, RFScore, DTScore, GBScore, XGBScore, LGBScore, CBRScore, KNNScore]\n",
    "    }\n",
    ")\n",
    "models.sort_values(by='SCORES', ascending=True)"
   ]
  },
  {
   "cell_type": "code",
   "execution_count": null,
   "id": "2d0433bd",
   "metadata": {
    "papermill": {
     "duration": 0.022086,
     "end_time": "2023-08-28T16:45:03.830701",
     "exception": false,
     "start_time": "2023-08-28T16:45:03.808615",
     "status": "completed"
    },
    "tags": []
   },
   "outputs": [],
   "source": []
  }
 ],
 "metadata": {
  "kernelspec": {
   "display_name": "Python 3",
   "language": "python",
   "name": "python3"
  },
  "language_info": {
   "codemirror_mode": {
    "name": "ipython",
    "version": 3
   },
   "file_extension": ".py",
   "mimetype": "text/x-python",
   "name": "python",
   "nbconvert_exporter": "python",
   "pygments_lexer": "ipython3",
   "version": "3.11.5"
  },
  "papermill": {
   "default_parameters": {},
   "duration": 26.186108,
   "end_time": "2023-08-28T16:45:05.078340",
   "environment_variables": {},
   "exception": null,
   "input_path": "__notebook__.ipynb",
   "output_path": "__notebook__.ipynb",
   "parameters": {},
   "start_time": "2023-08-28T16:44:38.892232",
   "version": "2.4.0"
  }
 },
 "nbformat": 4,
 "nbformat_minor": 5
}
